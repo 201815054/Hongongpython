{
 "cells": [
  {
   "cell_type": "markdown",
   "metadata": {},
   "source": [
    "### 05-1 함수 만들기 \n",
    "---\n",
    "#### 시작하기 전에 \n",
    "***함수호출***(함수call), ***함수의 매개변수***(parameter),***함수의 인자***(argument)"
   ]
  },
  {
   "cell_type": "code",
   "execution_count": 3,
   "metadata": {},
   "outputs": [
    {
     "name": "stdout",
     "output_type": "stream",
     "text": [
      "receive(rae_data)\n",
      "parse(ran)\n",
      "preprorpcessed(parsed_data)\n",
      "processed(preprocessed_data)\n",
      "algo(precessed)\n"
     ]
    }
   ],
   "source": [
    "print(\"receive(rae_data)\")\n",
    "print(\"parse(ran)\")\n",
    "print(\"preprorpcessed(parsed_data)\")\n",
    "print(\"processed(preprocessed_data)\")\n",
    "print(\"algo(precessed)\")\n",
    "\n",
    "# 우리가 처리해야하는 자료들을 함수로 만들어서 사용하지않고 \n",
    "# 실행코드들은 재사용 가능 (핵심)\n"
   ]
  },
  {
   "cell_type": "markdown",
   "metadata": {},
   "source": [
    "> 함수의 역할 : 함수는 한마디로 어떤 기능을 하는 ***코드의 집합*** 이다.  "
   ]
  },
  {
   "cell_type": "code",
   "execution_count": 8,
   "metadata": {},
   "outputs": [
    {
     "name": "stdout",
     "output_type": "stream",
     "text": [
      "Hello~\n",
      "Hello~\n",
      "12.7\n",
      "Hello~\n",
      "Hi~Hi~Hi~Hi~Hi~\n"
     ]
    }
   ],
   "source": [
    "# 1. 함수 선언(정의)   \n",
    "# def 함수명(매개변수):\n",
    "#     실행문    \n",
    "\n",
    "def hello():   #헬로우라는 기능을 만들것임.\n",
    "    print(\"Hello~\")\n",
    "#컨트롤 코드가 엄청 ㅇ옴 ...\n",
    "#....등등 그래도 ↓\n",
    "hello() #함수를 콜해주면 함수가 출력됨.\n",
    "#....\n",
    "#....\n",
    "hello()\n",
    "# 다른것하다가 함수를 콜해주면 함수의 기능으로 올라감\n",
    "\n",
    "def hi(num): #위에건 매개변수가없지만 이번함수는 매개변수가있음.\n",
    "    print(\"Hi~\" * num)\n",
    "\n",
    "def to_cm(inch_val): #인치값을 받아와서 센티미터로 단위변환을 해서 리턴함.\n",
    "    return inch_val * 2.54 \n",
    "\n",
    "cm = to_cm(5)\n",
    "print(cm)\n",
    "hello()\n",
    "hi(5)\n",
    "\n"
   ]
  },
  {
   "cell_type": "code",
   "execution_count": 11,
   "metadata": {},
   "outputs": [
    {
     "data": {
      "text/plain": [
       "9"
      ]
     },
     "execution_count": 11,
     "metadata": {},
     "output_type": "execute_result"
    }
   ],
   "source": [
    "len(\"abc\") #렝스를 구현해보자 ! Return the number of items in a container.\n",
    "\n",
    "def my_len(args):\n",
    "    \"\"\"내가 만든 len()\n",
    "       args : 문자열 타입.\"\"\" #함수의 헤더에 문자열 타입이라고 설명해줌.어떤 목적의 어떤기능을 하는 함수다.라고 적어줄수 있음. \n",
    "    count = 0 \n",
    "    for i in args:\n",
    "        count += 1 # += 카운트 쁠쁠\n",
    "    return count \n",
    "\n",
    "\n",
    "my_len(\"어떤 문자열\") #어떤 문자열을 넣으면 딱 정수로 리턴되게끔\n"
   ]
  },
  {
   "cell_type": "markdown",
   "metadata": {},
   "source": [
    "> 함수에 매개변수 만들기 "
   ]
  },
  {
   "cell_type": "code",
   "execution_count": 20,
   "metadata": {},
   "outputs": [
    {
     "name": "stdout",
     "output_type": "stream",
     "text": [
      "합: 5\n",
      "밥 먹었니? \n",
      "잘 잤니? 잘 잤니? 잘 잤니? \n"
     ]
    },
    {
     "ename": "TypeError",
     "evalue": "greet() missing 1 required positional argument: 'cnt'",
     "output_type": "error",
     "traceback": [
      "\u001b[1;31m---------------------------------------------------------------------------\u001b[0m",
      "\u001b[1;31mTypeError\u001b[0m                                 Traceback (most recent call last)",
      "\u001b[1;32m~\\AppData\\Local\\Temp/ipykernel_15464/657950389.py\u001b[0m in \u001b[0;36m<module>\u001b[1;34m\u001b[0m\n\u001b[0;32m     10\u001b[0m \u001b[0mgreet\u001b[0m\u001b[1;33m(\u001b[0m\u001b[1;34m\"밥 먹었니?\"\u001b[0m\u001b[1;33m,\u001b[0m \u001b[1;36m1\u001b[0m\u001b[1;33m)\u001b[0m \u001b[1;31m#그리트 세번 반복\u001b[0m\u001b[1;33m\u001b[0m\u001b[1;33m\u001b[0m\u001b[0m\n\u001b[0;32m     11\u001b[0m \u001b[0mgreet\u001b[0m\u001b[1;33m(\u001b[0m\u001b[1;34m\"잘 잤니?\"\u001b[0m\u001b[1;33m,\u001b[0m\u001b[1;36m3\u001b[0m\u001b[1;33m)\u001b[0m\u001b[1;33m\u001b[0m\u001b[1;33m\u001b[0m\u001b[0m\n\u001b[1;32m---> 12\u001b[1;33m \u001b[0mgreet\u001b[0m\u001b[1;33m(\u001b[0m\u001b[1;34m\"어소세요~\"\u001b[0m\u001b[1;33m)\u001b[0m\u001b[1;33m\u001b[0m\u001b[1;33m\u001b[0m\u001b[0m\n\u001b[0m\u001b[0;32m     13\u001b[0m \u001b[1;33m\u001b[0m\u001b[0m\n",
      "\u001b[1;31mTypeError\u001b[0m: greet() missing 1 required positional argument: 'cnt'"
     ]
    }
   ],
   "source": [
    "def two_add(a,b):\n",
    "    return a + b \n",
    "\n",
    "def greet(msg, cnt): #사용자의 메세지를 몇번받았나?\n",
    "    print((msg +\" \") * cnt)\n",
    "\n",
    "total = two_add(2, 3)\n",
    "print(\"합:\", total)\n",
    "\n",
    "greet(\"밥 먹었니?\", 1) #그리트 세번 반복 \n",
    "greet(\"잘 잤니?\",3)\n",
    "greet(\"어소세요~\")\n",
    "\n"
   ]
  },
  {
   "cell_type": "markdown",
   "metadata": {},
   "source": [
    "> 가변 매개 변수(인자)와 언패킹 사용하기 "
   ]
  },
  {
   "cell_type": "code",
   "execution_count": 24,
   "metadata": {},
   "outputs": [
    {
     "name": "stdout",
     "output_type": "stream",
     "text": [
      "\n",
      "1\n",
      "1 2 3\n"
     ]
    }
   ],
   "source": [
    "# # 함수 오버로딩\n",
    "# int add(int a, int b){}\n",
    "# float add(int a, float b){}\n",
    "# float add(float a, float b){}\n",
    "\n",
    "def add(x,y): #:[,,,,,,,,,,,,,,,,,,,,,,,,,,,,,,,,,,,,,,] 이것이 튜플이건 리스트건 집합형에 쌓여있는것, 언패킹한다고함. 이것을 어디에 쓰나?▽▽▽▽▽ \n",
    "    return x + y\n",
    "\n",
    "add(2, 3)\n",
    "add(1, 2.3)\n",
    "add(1.0,1.1)\n",
    "\n",
    "# 즉 파이썬은 타입을 굳이 쓸 필요가없다. 편하다. 하지만 클래스이기 때문에 복사하고 꺼내오고 저장하고 할때 언박싱이라는것이 일어남\n",
    "# 박싱을 하고 언박싱을 하는것이 수시로 일어나서 성능이 안좋음.. c언어등은 밸류값이 리터럴이기때문에 바로 들어오지만 파이썬은 아님.\n",
    "\n",
    "print()        # 0\n",
    "print(1,)      # 1\n",
    "print(1, 2, 3) # 3 #프린트는 함수인데 우리가 함수를 정의 할때 x,y와같이 정하고 들어감. 그런데 갯수가 안맞으면 오류가났음. 근데 왜 프린트는 안그럴까?\n",
    "#왜 되는걸까? 정해지면 정해진대로 다 찍어줌. 이것을 우리는 가변적이라고 함. \n",
    "# 사용자가 입력을 받는데 그 받은 값을 사용자가 몇개값을 입력할지를 모르니 x,y에 넣어준다고 하면 sum 이라는 형태를 만들었는데 , 사용자가 몇개를 입력했는지 경우를 오버로딩해야하나?\n",
    "# 그 객체가 밝히는 주소를 받으면 안에 요소를 하나하나씩 채울 수 있다. 그래서 가변함수는 그렇게 만든다고 알아두면됨. \n",
    "# valuable 가변인수 , end 와같은것을 키워드라고 함. \n"
   ]
  },
  {
   "cell_type": "code",
   "execution_count": null,
   "metadata": {},
   "outputs": [],
   "source": [
    "# 메신저라는 함수 인자로 넣은것 만큼 프린트를 해주는 함수를 만들어라.\n",
    " \n",
    "def messenger(cnt, *msgs): #\n",
    "    print(type(msgs))\n",
    "    for i in range(cnt):\n",
    "        print(i+1,\".\")\n",
    "        for msg in msgs:\n",
    "            print(msg)\n",
    "        print()\n",
    "#  [],(),{} 이것이 튜플 *을 붙이면 언패킹이 됨. 그래서 저 패킹되어있는 변수가 언패킹이 되어 들어갈 수 있음. \n",
    "\n",
    "\n",
    "messenger(2, \"문자열\",\"문자열2\",\"문자열3\",\"......\") \n",
    "messenger(3, \"문자열\",\"문자열2\",\"문자열3\",\"......\") \n",
    "messenger(1, \"문자열\",\"문자열2\",\"......\") \n",
    " "
   ]
  },
  {
   "cell_type": "code",
   "execution_count": null,
   "metadata": {},
   "outputs": [],
   "source": [
    "# 가변인수가 맨 앞에 오는 경우 \n",
    "def messenger(*msgs, cnt): # 가변인수는 항상 맨 뒤에... \n",
    "    for i in range(cnt):\n",
    "        print(i+1,\".\")\n",
    "        for msg in msgs:\n",
    "            print(msg)\n",
    "        print()\n",
    "\n",
    "messenger(\"열차가 들어오고 있습니다.\",\"뒤로 물러서서 기다려 주세요\",3)"
   ]
  },
  {
   "cell_type": "code",
   "execution_count": 27,
   "metadata": {},
   "outputs": [
    {
     "data": {
      "text/plain": [
       "36"
      ]
     },
     "execution_count": 27,
     "metadata": {},
     "output_type": "execute_result"
    }
   ],
   "source": [
    "def smart_add(*s):\n",
    "    total = 0\n",
    "    for i in(1,2,3,4,5,6,7,8):\n",
    "        total += i \n",
    "    return total\n",
    "\n",
    "\n",
    "\n",
    "\n",
    "smart_add(1,2) \n",
    "smart_add(1,2,4,8)\n",
    "smart_add(1,2,4,8,5,6,7,8)\n"
   ]
  },
  {
   "cell_type": "code",
   "execution_count": null,
   "metadata": {},
   "outputs": [],
   "source": [
    "# 사용자로부터 입력받은 모든 정수의 합을 구하는 프로그램 작성(함수로 구현)\n",
    "user_list = input(\"에러 정수를 입력하세요:\").split()\n",
    "int_list = [int(ch) for ch in user_list]\n",
    "\n",
    "print(\"사용자가 입력한 정수 목록 = \",int_list)\n",
    "print(\"정수들의 총합 = \", smart_add(*int_list)) #언패킹해서 넣음. "
   ]
  },
  {
   "cell_type": "markdown",
   "metadata": {},
   "source": [
    "> 키워드 인수 사용하기 "
   ]
  },
  {
   "cell_type": "code",
   "execution_count": 30,
   "metadata": {},
   "outputs": [
    {
     "name": "stdout",
     "output_type": "stream",
     "text": [
      "이름: 비트캠프\n",
      "나이: 30\n",
      "주소 서울 강남구\n",
      "\n",
      "이름: 30\n",
      "나이: 서울 강남구\n",
      "주소 비트캠프\n"
     ]
    }
   ],
   "source": [
    "# help(print)\n",
    "# print(value, ..., sep=' ', end = '\\n', file-sys.stdout, flush= False)\n",
    "\n",
    "def personal_info(name, age, address):\n",
    "    print(\"이름:\",name)\n",
    "    print(\"나이:\",age)\n",
    "    print(\"주소\",address)\n",
    "\n",
    "personal_info(\"비트캠프\",30,\"서울 강남구\")\n",
    "print()\n",
    "personal_info(30,\"서울 강남구\",\"비트캠프\") # 순서가 맞게 넣어줌. 안그럼 중구난방으로 나옴."
   ]
  },
  {
   "cell_type": "code",
   "execution_count": 31,
   "metadata": {},
   "outputs": [
    {
     "name": "stdout",
     "output_type": "stream",
     "text": [
      "이름: 비트캠프\n",
      "나이: 30\n",
      "주소 서울\n"
     ]
    }
   ],
   "source": [
    "personal_info(age=30, address=\"서울\", name =\"비트캠프\") #이렇게 하면 순서가 맞지 않지만 출력해보면 순서가 맞게 출력된다.\n"
   ]
  },
  {
   "cell_type": "code",
   "execution_count": 34,
   "metadata": {},
   "outputs": [
    {
     "name": "stdout",
     "output_type": "stream",
     "text": [
      "이름: 비트캠프\n",
      "나이: 10\n",
      "주소 경남\n"
     ]
    }
   ],
   "source": [
    "# # 딕셔너리 언패킹 \n",
    "# def personal_info(name, age, address):\n",
    "#     print(\"이름:\",name)\n",
    "#     print(\"나이:\",age)\n",
    "#     print(\"주소\",address)\n",
    "di = {\"name\":\"비트캠프\",\"age\":10, \"address\":\"경남\"} \n",
    "personal_info(**{\"name\":\"비트캠프\",\"age\":10, \"address\":\"경남\"}) #언패킹 안하면 에러남. 세팅을 못함.. *붙으면 키가 할당됨 그래서 딕셔너리 패킹할땐 별 두개붙임.\n"
   ]
  },
  {
   "cell_type": "markdown",
   "metadata": {},
   "source": [
    "> 매개변수에 초깃값 지정하기 "
   ]
  },
  {
   "cell_type": "code",
   "execution_count": 35,
   "metadata": {},
   "outputs": [
    {
     "name": "stdout",
     "output_type": "stream",
     "text": [
      "이름: 1번 학생\n",
      "나이: 27\n",
      "주소 서울\n",
      "이름: 2번 학생\n",
      "나이: 35\n",
      "주소 서울\n",
      "이름: 3번 학생\n",
      "나이: 27\n",
      "주소 충북\n"
     ]
    }
   ],
   "source": [
    "# 99%가 서울 주민 .. . 그럼 계속 서울을 쓰는것이 아닌 디폴트값을 만들어야함. \n",
    "def general_info(name, age, address = '서울'):\n",
    "    print(\"이름:\",name)\n",
    "    print(\"나이:\",age)\n",
    "    print(\"주소\",address)\n",
    "\n",
    "general_info('1번 학생',27)\n",
    "general_info('2번 학생',35)\n",
    "general_info('3번 학생',27,'충북') #가변수를 만들건 아니고 세개만 받는데 위에는 두개만 입력. 생략해도 디폴트값을 받음\n",
    "\n"
   ]
  },
  {
   "cell_type": "code",
   "execution_count": 39,
   "metadata": {},
   "outputs": [
    {
     "name": "stdout",
     "output_type": "stream",
     "text": [
      "1 10 100\n",
      "1 2 100\n",
      "1 2 3\n"
     ]
    }
   ],
   "source": [
    "def test(x, y=10, z=100): #디폴트값\n",
    "    print(x,y,z)\n",
    "test(1)\n",
    "test(1,2)\n",
    "test(1,2,3) \n"
   ]
  },
  {
   "cell_type": "code",
   "execution_count": 41,
   "metadata": {},
   "outputs": [
    {
     "name": "stdout",
     "output_type": "stream",
     "text": [
      "a b c\n",
      "a/b/c\n"
     ]
    }
   ],
   "source": [
    "print('a','b', 'c') # sep='', end= '\\n'\n",
    "print('a','b','c',sep='/')\n"
   ]
  },
  {
   "cell_type": "markdown",
   "metadata": {},
   "source": [
    "> 가변인수 함수 VS 키워드 가변인수 함수 "
   ]
  },
  {
   "cell_type": "code",
   "execution_count": 43,
   "metadata": {},
   "outputs": [
    {
     "name": "stdout",
     "output_type": "stream",
     "text": [
      "a,\n",
      "b,\n",
      "c,\n",
      "1,\n",
      "2,\n",
      "3,\n",
      "4,\n",
      "5,\n",
      "6,\n",
      "7,\n"
     ]
    },
    {
     "ename": "TypeError",
     "evalue": "ginfo() got an unexpected keyword argument 'end'",
     "output_type": "error",
     "traceback": [
      "\u001b[1;31m---------------------------------------------------------------------------\u001b[0m",
      "\u001b[1;31mTypeError\u001b[0m                                 Traceback (most recent call last)",
      "\u001b[1;32m~\\AppData\\Local\\Temp/ipykernel_15464/2556976900.py\u001b[0m in \u001b[0;36m<module>\u001b[1;34m\u001b[0m\n\u001b[0;32m     10\u001b[0m \u001b[1;33m\u001b[0m\u001b[0m\n\u001b[0;32m     11\u001b[0m \u001b[1;31m#리스트 언패킹\u001b[0m\u001b[1;33m\u001b[0m\u001b[1;33m\u001b[0m\u001b[0m\n\u001b[1;32m---> 12\u001b[1;33m \u001b[0mginfo\u001b[0m\u001b[1;33m(\u001b[0m\u001b[1;33m*\u001b[0m\u001b[0mli\u001b[0m\u001b[1;33m,\u001b[0m \u001b[0mend\u001b[0m\u001b[1;33m=\u001b[0m\u001b[1;34m' '\u001b[0m\u001b[1;33m)\u001b[0m\u001b[1;33m\u001b[0m\u001b[1;33m\u001b[0m\u001b[0m\n\u001b[0m",
      "\u001b[1;31mTypeError\u001b[0m: ginfo() got an unexpected keyword argument 'end'"
     ]
    }
   ],
   "source": [
    "def ginfo(*args):\n",
    "    for e in args:\n",
    "        print(e, end=',')\n",
    "        print()\n",
    "ginfo('a','b','c')\n",
    "ginfo(1,2,3,4,5,6,7)\n",
    "\n",
    "#리스트 내포 \n",
    "li = [i * 100 for i in range(15 + 1)]\n",
    "\n",
    "#리스트 언패킹 \n",
    "ginfo(*li)"
   ]
  },
  {
   "cell_type": "markdown",
   "metadata": {},
   "source": [
    "> 리턴(return)"
   ]
  },
  {
   "cell_type": "code",
   "execution_count": 48,
   "metadata": {},
   "outputs": [
    {
     "name": "stdout",
     "output_type": "stream",
     "text": [
      "A 위치입니다.\n",
      "100\n",
      "None\n"
     ]
    }
   ],
   "source": [
    "# 키워드 : return\n",
    "# 함수를 실행했던 위치로 돌아가라는 뜻 또는 함수를 빠져나가라는 뜻\n",
    "\n",
    "# 1. 자료없이 리턴\n",
    "def return_test(): #리턴되면 빠져나가니까 닿을수가없음.\n",
    "    print(\"A 위치입니다.\")\n",
    "    return \n",
    "    print(\"B 위치입니다.\")\n",
    "    print(\"C 위치입니다.\")\n",
    "\n",
    "return_test()\n",
    "\n",
    "# 2. 자료와 함께 리턴하기 \n",
    "def return_test():\n",
    "    return 100 \n",
    "\n",
    "value = return_test()   \n",
    "print(value)\n",
    "# 리턴하면서 자료까지 전달시켜줌. \n",
    "\n",
    "# 3. 아무것도 리턴하지 않음. \n",
    "def return_test():\n",
    "    return \n",
    "\n",
    "value = return_test()\n",
    "print(value)  "
   ]
  }
 ],
 "metadata": {
  "interpreter": {
   "hash": "054c0b5073ae8ed56926c5c67113945079b283bacf1a269ae7086b3d9eebd60c"
  },
  "kernelspec": {
   "display_name": "Python 3.10.1 64-bit",
   "language": "python",
   "name": "python3"
  },
  "language_info": {
   "codemirror_mode": {
    "name": "ipython",
    "version": 3
   },
   "file_extension": ".py",
   "mimetype": "text/x-python",
   "name": "python",
   "nbconvert_exporter": "python",
   "pygments_lexer": "ipython3",
   "version": "3.10.1"
  },
  "orig_nbformat": 4
 },
 "nbformat": 4,
 "nbformat_minor": 2
}
