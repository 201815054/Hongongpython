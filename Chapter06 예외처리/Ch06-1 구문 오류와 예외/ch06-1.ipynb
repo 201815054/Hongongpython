{
 "cells": [
  {
   "cell_type": "markdown",
   "metadata": {},
   "source": [
    "### 06-1 구문 오류와 예외 \n",
    "---\n",
    "***에러(error)*** 의 발생과 처리 "
   ]
  },
  {
   "cell_type": "code",
   "execution_count": null,
   "metadata": {},
   "outputs": [],
   "source": [
    "# 1. 컴파일 에러(syntax error) : 실행 전에 발생하는 문법오류 \n",
    "# 2. 런타임 에러(runtime error): 실행 중에 발생하는 오류, 예외(Exception)   \n",
    "# 3. 논리, 의미론적 에러(Logic, Semantic Error) : \n",
    "#            결과가 예상과 달리 의도한 작업을 수행하지 못함(에러 메시지가 없어 수정 시 어려움)"
   ]
  },
  {
   "cell_type": "markdown",
   "metadata": {},
   "source": [
    "> 구문 오류 "
   ]
  },
  {
   "cell_type": "code",
   "execution_count": 2,
   "metadata": {},
   "outputs": [
    {
     "ename": "SyntaxError",
     "evalue": "invalid syntax (Temp/ipykernel_6148/3955787598.py, line 1)",
     "output_type": "error",
     "traceback": [
      "\u001b[1;36m  File \u001b[1;32m\"C:\\Users\\bitcamp\\AppData\\Local\\Temp/ipykernel_6148/3955787598.py\"\u001b[1;36m, line \u001b[1;32m1\u001b[0m\n\u001b[1;33m    int i = 0\u001b[0m\n\u001b[1;37m        ^\u001b[0m\n\u001b[1;31mSyntaxError\u001b[0m\u001b[1;31m:\u001b[0m invalid syntax\n"
     ]
    }
   ],
   "source": [
    "int i = 0\n",
    "if i > 0\n",
    "    print(i)"
   ]
  },
  {
   "cell_type": "markdown",
   "metadata": {},
   "source": [
    "> 예외(exception)"
   ]
  },
  {
   "cell_type": "code",
   "execution_count": 10,
   "metadata": {},
   "outputs": [
    {
     "name": "stdout",
     "output_type": "stream",
     "text": [
      "프로그램이 시작되었습니다.\n"
     ]
    },
    {
     "ename": "IndexError",
     "evalue": "string index out of range",
     "output_type": "error",
     "traceback": [
      "\u001b[1;31m---------------------------------------------------------------------------\u001b[0m",
      "\u001b[1;31mIndexError\u001b[0m                                Traceback (most recent call last)",
      "\u001b[1;32m~\\AppData\\Local\\Temp/ipykernel_6148/2764060768.py\u001b[0m in \u001b[0;36m<module>\u001b[1;34m\u001b[0m\n\u001b[0;32m      4\u001b[0m \u001b[1;31m# 런타임 오류\u001b[0m\u001b[1;33m\u001b[0m\u001b[1;33m\u001b[0m\u001b[0m\n\u001b[0;32m      5\u001b[0m \u001b[0mtext\u001b[0m \u001b[1;33m=\u001b[0m \u001b[1;34m\"abc\"\u001b[0m\u001b[1;33m\u001b[0m\u001b[1;33m\u001b[0m\u001b[0m\n\u001b[1;32m----> 6\u001b[1;33m \u001b[0mtext\u001b[0m\u001b[1;33m[\u001b[0m\u001b[1;36m3\u001b[0m\u001b[1;33m]\u001b[0m \u001b[1;31m# IndexError\u001b[0m\u001b[1;33m\u001b[0m\u001b[1;33m\u001b[0m\u001b[0m\n\u001b[0m\u001b[0;32m      7\u001b[0m \u001b[1;33m\u001b[0m\u001b[0m\n\u001b[0;32m      8\u001b[0m \u001b[1;31m# i = 0\u001b[0m\u001b[1;33m\u001b[0m\u001b[1;33m\u001b[0m\u001b[0m\n",
      "\u001b[1;31mIndexError\u001b[0m: string index out of range"
     ]
    }
   ],
   "source": [
    "print(\"프로그램이 시작되었습니다.\")\n",
    "\n",
    "\n",
    "# 런타임 오류 \n",
    "text = \"abc\" \n",
    "text[3] # IndexError\n",
    "\n",
    "# i = 0\n",
    "# result = 3.14 / i # ZeroDivisionError\n",
    "\n",
    "print(\"프로그램이 종료되었습니다.\")\n",
    "\n",
    "\n"
   ]
  },
  {
   "cell_type": "markdown",
   "metadata": {},
   "source": [
    "> 기본 예외 처리(exception handling)"
   ]
  },
  {
   "cell_type": "code",
   "execution_count": 8,
   "metadata": {},
   "outputs": [
    {
     "name": "stdout",
     "output_type": "stream",
     "text": [
      "프로그램 시작\n",
      "25의 제곱근은 5.0입니다.\n",
      "프로그램 종료\n"
     ]
    }
   ],
   "source": [
    "print(\"프로그램 시작\")\n",
    "\n",
    "user_input = input(\"입력한 정수의 제곱근을 구합니다: \")\n",
    "if user_input.isdigit():\n",
    "    print(f\"{user_input}의 제곱근은 {int(user_input)**(1/2)}입니다.\") #제곱근은 **(1/2)\n",
    "else:\n",
    "    print(\"정수가 아닙니다. 프로그램을 종료합니다.\")\n",
    "\n",
    "print(\"프로그램 종료\")"
   ]
  },
  {
   "cell_type": "markdown",
   "metadata": {},
   "source": [
    "> try ~ except "
   ]
  },
  {
   "cell_type": "code",
   "execution_count": 9,
   "metadata": {},
   "outputs": [
    {
     "name": "stdout",
     "output_type": "stream",
     "text": [
      "프로그램이 시작되었습니다\n",
      "예외가 발생되었습니다. float division by zero\n",
      "프로그램이 정상적으로 종료되었습니다\n"
     ]
    }
   ],
   "source": [
    "print(\"프로그램이 시작되었습니다\")\n",
    "\n",
    "i = 0 \n",
    "PI = 3.141592   \n",
    "\n",
    "try:\n",
    "    # 예외가 발생할 가능성이 있는 코드 \n",
    "    result = PI / i \n",
    "except ZeroDivisionError as ex:\n",
    "    # 예외 해당되는 처리 코드\n",
    "    print(\"예외가 발생되었습니다.\", ex) # 위와같이 제로디비젼에러를 실행하고있음 float division by zero (실수를 0으로 나누었다.)\n",
    "    \n",
    "print(\"프로그램이 정상적으로 종료되었습니다\")"
   ]
  },
  {
   "cell_type": "code",
   "execution_count": 13,
   "metadata": {},
   "outputs": [
    {
     "name": "stdout",
     "output_type": "stream",
     "text": [
      "프로그래밍 시작되었습니다.=========================\n",
      "에외 발생 could not convert string to float: 'A'\n",
      "에외 발생 could not convert string to float: '파이썬'\n",
      "['52', '273', '103']\n",
      "프로그래밍 종료되었습니다.=========================\n"
     ]
    }
   ],
   "source": [
    "# 인덱스에러를 만들어보자\n",
    "print(\"프로그래밍 시작되었습니다.=========================\")\n",
    "\n",
    "list_txt = [\"52\",\"273\",\"A\",\"파이썬\",\"103\"] #숫자,숫자,문자,문자,숫자\n",
    "numbers = []    #초기화 하고 숫자인것만 어펜드를 한다. \n",
    "for item in list_txt:\n",
    "    try:\n",
    "        float(item)\n",
    "        numbers.append(item)\n",
    "    except Exception as ex:\n",
    "        # pass\n",
    "        print(\"에외 발생\", str(ex))\n",
    "\n",
    "print(numbers)\n",
    "\n",
    "print(\"프로그래밍 종료되었습니다.=========================\")\n"
   ]
  },
  {
   "cell_type": "markdown",
   "metadata": {},
   "source": [
    "> try ~ except ~ except ~ except~ ........"
   ]
  },
  {
   "cell_type": "code",
   "execution_count": 24,
   "metadata": {},
   "outputs": [
    {
     "name": "stdout",
     "output_type": "stream",
     "text": [
      "형변환 에러! invalid literal for int() with base 10: '가'\n"
     ]
    }
   ],
   "source": [
    "index = [0, 1, 2]\n",
    "\n",
    "try:\n",
    "    index[0] = 1\n",
    "    result = index[1] / index[0]\n",
    "    int(\"가\")\n",
    "except IndexError as ei: \n",
    "    print(\"인덱스 에러발생 !\",str(ei))\n",
    "except ZeroDivisionError as ez: \n",
    "    print(\"0으로 나눌 수 없습니다.\",str(ez))\n",
    "except ValueError as ev:\n",
    "    print(\"형변환 에러!\",str(ev))\n",
    "except Exception as ex: \n",
    "    print(str(ex),ex)\n",
    "\n"
   ]
  },
  {
   "cell_type": "markdown",
   "metadata": {},
   "source": [
    "> try ~ except ~ else"
   ]
  },
  {
   "cell_type": "code",
   "execution_count": 25,
   "metadata": {},
   "outputs": [
    {
     "name": "stdout",
     "output_type": "stream",
     "text": [
      "1000\n"
     ]
    }
   ],
   "source": [
    "try:\n",
    "    number_input = int(input(\"정수입력:\"))\n",
    "except Exception as e:\n",
    "    print(\"정수입력 예외발생!\", str(e))\n",
    "else:\n",
    "    print(number_input * 100)"
   ]
  },
  {
   "cell_type": "markdown",
   "metadata": {},
   "source": [
    "> finally 구문"
   ]
  },
  {
   "cell_type": "code",
   "execution_count": 28,
   "metadata": {},
   "outputs": [
    {
     "name": "stdout",
     "output_type": "stream",
     "text": [
      "입력 오류입니다 invalid literal for int() with base 10: 'finally '\n",
      "프로그램을 종료합니다\n"
     ]
    }
   ],
   "source": [
    "index = []\n",
    "try:\n",
    "    number_input = int(input(\"Enter integer > \"))\n",
    "except Exception as ex:\n",
    "    print(\"입력 오류입니다\",ex)\n",
    "else:\n",
    "    print(\"입력값은 %d 입니다.\"% number_input)\n",
    "    index.append(number_input)\n",
    "    try:\n",
    "        for i in range(3): print(index[i])\n",
    "    except Exception as e:\n",
    "        print(\"else의 예외\",str(e))\n",
    "#finally 는 예외가 발생하던지 않던지 \"무조건 실행\"\n",
    "finally:\n",
    "    print(\"프로그램을 종료합니다\")  "
   ]
  },
  {
   "cell_type": "code",
   "execution_count": 29,
   "metadata": {},
   "outputs": [
    {
     "name": "stdout",
     "output_type": "stream",
     "text": [
      "file.closed True\n"
     ]
    }
   ],
   "source": [
    "file_name = \"basic.txt\"\n",
    "file_path = \"..\\\\..\\\\..\\\\..\\\\source\\\\\"\n",
    "\n",
    "try:\n",
    "    fo = open(file_path + file_name, 'rt', encoding = 'utf-8')\n",
    "    fo.read()\n",
    "    fo.close()\n",
    "except Exception as e:\n",
    "    print(str(e))\n",
    "\n",
    "print(\"file.closed\",fo.closed)"
   ]
  },
  {
   "cell_type": "code",
   "execution_count": 30,
   "metadata": {},
   "outputs": [
    {
     "name": "stdout",
     "output_type": "stream",
     "text": [
      "file.closed True\n"
     ]
    }
   ],
   "source": [
    "file_name = \"basic.txt\"\n",
    "file_path = \"..\\\\..\\\\..\\\\..\\\\source\\\\\"\n",
    "\n",
    "try:\n",
    "    # 파일이 없는경우 \n",
    "    # USB 파일을 읽는 중 제거한 경우\n",
    "    # 기타 하드웨어 장치 문제 발생 등 .....\n",
    "    fo = open(file_path + file_name, 'rt', encoding = 'utf-8')\n",
    "    fo.read()\n",
    "except Exception as e:\n",
    "    print(str(e))\n",
    "finally:\n",
    "\n",
    "    fo.close() #호출 안 될 가능성이 있음. \n",
    "print(\"file.closed\",fo.closed)"
   ]
  },
  {
   "cell_type": "code",
   "execution_count": 31,
   "metadata": {},
   "outputs": [],
   "source": [
    "def test():\n",
    "    print(\"test()시작\")\n",
    "    try:\n",
    "        print(\"1.......\")\n",
    "        return\n",
    "        print(\"2,,,,,,,,,,\")\n",
    "    except: print(\"excepts.............\")   \n",
    "    else: primt(\"else\")\n",
    "    finally: print(\"finally....\")\n",
    "    print(\"test()끝\")\n"
   ]
  },
  {
   "cell_type": "markdown",
   "metadata": {},
   "source": [
    "> 예외(exception objext) 발생시키기\n"
   ]
  },
  {
   "cell_type": "markdown",
   "metadata": {},
   "source": [
    " > raise 구문   "
   ]
  },
  {
   "cell_type": "code",
   "execution_count": 39,
   "metadata": {},
   "outputs": [
    {
     "name": "stdout",
     "output_type": "stream",
     "text": [
      "==============================================================\n",
      "프로그램 시작\n"
     ]
    },
    {
     "ename": "ValueError",
     "evalue": "invalid literal for int() with base 10: 'wjd'",
     "output_type": "error",
     "traceback": [
      "\u001b[1;31m---------------------------------------------------------------------------\u001b[0m",
      "\u001b[1;31mValueError\u001b[0m                                Traceback (most recent call last)",
      "\u001b[1;32m~\\AppData\\Local\\Temp/ipykernel_6148/937416967.py\u001b[0m in \u001b[0;36m<module>\u001b[1;34m\u001b[0m\n\u001b[0;32m     20\u001b[0m \u001b[1;33m\u001b[0m\u001b[0m\n\u001b[0;32m     21\u001b[0m \u001b[0mdata_in\u001b[0m \u001b[1;33m=\u001b[0m \u001b[0minput\u001b[0m\u001b[1;33m(\u001b[0m\u001b[1;34m\"정수입력: \"\u001b[0m\u001b[1;33m)\u001b[0m\u001b[1;33m\u001b[0m\u001b[1;33m\u001b[0m\u001b[0m\n\u001b[1;32m---> 22\u001b[1;33m \u001b[0mnumber\u001b[0m \u001b[1;33m=\u001b[0m \u001b[0mint\u001b[0m\u001b[1;33m(\u001b[0m\u001b[0mdata_in\u001b[0m\u001b[1;33m)\u001b[0m\u001b[1;33m\u001b[0m\u001b[1;33m\u001b[0m\u001b[0m\n\u001b[0m\u001b[0;32m     23\u001b[0m \u001b[1;32mtry\u001b[0m\u001b[1;33m:\u001b[0m\u001b[1;33m\u001b[0m\u001b[1;33m\u001b[0m\u001b[0m\n\u001b[0;32m     24\u001b[0m     \u001b[0mbiz_method\u001b[0m\u001b[1;33m(\u001b[0m\u001b[0mnumber\u001b[0m\u001b[1;33m)\u001b[0m\u001b[1;33m\u001b[0m\u001b[1;33m\u001b[0m\u001b[0m\n",
      "\u001b[1;31mValueError\u001b[0m: invalid literal for int() with base 10: 'wjd'"
     ]
    }
   ],
   "source": [
    "# 타 언어 예외값 :throw(예외를 던기조)try~catch~ finll //예외를 받아쳐라\n",
    "class Biz_inbalidError(Exception):\n",
    "    def __ininit__(self, message):\n",
    "        Exception.__init__(self)\n",
    "        self.message = message\n",
    "    def __str__(self):\n",
    "        return self.message\n",
    "# 업무상 데이터가 음수가 입력뇌면 안되는 상황이면..........\n",
    "def biz_method(number):\n",
    "    \"\"\"\n",
    "    자연수가 아니면 Biz_InValidError 발생\n",
    "    \"\"\"    \n",
    "    if number > 0:\n",
    "        print(\"유효한 입력입니다.\")\n",
    "    else:\n",
    "        raise Biz_inbalidError(\"업무상 자연수만 입력해주세요!\")\n",
    "\n",
    "print(\"==============================================================\")\n",
    "print(\"프로그램 시작\")\n",
    "\n",
    "data_in = input(\"정수입력: \")\n",
    "number = int(data_in)\n",
    "\n",
    "try: \n",
    "    biz_method(number)\n",
    "except Biz_inbalidError as ex_biz:\n",
    "    print(str(ex_biz))\n",
    "\n",
    "print(\"프로그램 종료 \")"
   ]
  }
 ],
 "metadata": {
  "interpreter": {
   "hash": "054c0b5073ae8ed56926c5c67113945079b283bacf1a269ae7086b3d9eebd60c"
  },
  "kernelspec": {
   "display_name": "Python 3.10.1 64-bit",
   "language": "python",
   "name": "python3"
  },
  "language_info": {
   "codemirror_mode": {
    "name": "ipython",
    "version": 3
   },
   "file_extension": ".py",
   "mimetype": "text/x-python",
   "name": "python",
   "nbconvert_exporter": "python",
   "pygments_lexer": "ipython3",
   "version": "3.10.1"
  },
  "orig_nbformat": 4
 },
 "nbformat": 4,
 "nbformat_minor": 2
}
