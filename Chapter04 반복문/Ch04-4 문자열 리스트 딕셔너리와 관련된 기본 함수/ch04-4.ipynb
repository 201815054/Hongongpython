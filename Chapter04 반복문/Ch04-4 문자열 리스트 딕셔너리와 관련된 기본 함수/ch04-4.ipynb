{
 "cells": [
  {
   "cell_type": "markdown",
   "metadata": {},
   "source": [
    "### 04-4 문자열, 리스트, 딕셔너리 관련된 기본 함수\n",
    "---\n",
    "***파이썬스런*** 고유기능 살펴보기 enumerate(), 리스트 내포(list comprehension)"
   ]
  },
  {
   "cell_type": "markdown",
   "metadata": {},
   "source": [
    "> 리스트에 적용할 수 있는 기본함수 :min(), max(),sum()"
   ]
  },
  {
   "cell_type": "code",
   "execution_count": 6,
   "metadata": {},
   "outputs": [
    {
     "name": "stdout",
     "output_type": "stream",
     "text": [
      "최고점 98\n",
      "최저점 56\n",
      "총  점 400\n",
      "평  균 80.0\n",
      "[56, 63, 87, 96, 98]\n",
      "최고점 98\n",
      "최저점 56\n"
     ]
    }
   ],
   "source": [
    "# 1~ 10까지의 합 \n",
    "li = list(range(1,10+1))\n",
    "sum(li)\n",
    "\n",
    "scores = [96,87,98,63,56]\n",
    "print(\"최고점\", max(scores))\n",
    "print(\"최저점\", min(scores))\n",
    "print(\"총  점\", sum(scores))\n",
    "print(\"평  균\", sum(scores) / len(scores))\n",
    "\n",
    "scores.sort() # 요소가 오름차순 정렬\n",
    "print(scores)\n",
    "print(\"최고점\",scores[-1])\n",
    "print(\"최저점\",scores[0])"
   ]
  },
  {
   "cell_type": "markdown",
   "metadata": {},
   "source": [
    "> reversed():리스트 뒤집기"
   ]
  },
  {
   "cell_type": "code",
   "execution_count": 10,
   "metadata": {},
   "outputs": [
    {
     "name": "stdout",
     "output_type": "stream",
     "text": [
      "<list_reverseiterator object at 0x000001560BD65CC0>\n",
      "5\n",
      "4\n",
      "3\n",
      "2\n",
      "1\n",
      "[]\n"
     ]
    }
   ],
   "source": [
    "list_a = list(range(1, 5 + 1)) #1부터 5까지\n",
    "list_reversed = reversed(list_a)\n",
    "\n",
    "print(list_reversed)\n",
    "\n",
    "#반복문 적용\n",
    "for i in list_reversed:\n",
    "    print(i)\n",
    "\n",
    "li_ = list(list_reversed)\n",
    "print(li_)\n"
   ]
  },
  {
   "cell_type": "markdown",
   "metadata": {},
   "source": [
    ">  확장(step) 슬라이싱으로 리스트 뒤집기 "
   ]
  },
  {
   "cell_type": "code",
   "execution_count": 12,
   "metadata": {},
   "outputs": [
    {
     "data": {
      "text/plain": [
       "[5, 4, 3, 2, 1]"
      ]
     },
     "execution_count": 12,
     "metadata": {},
     "output_type": "execute_result"
    }
   ],
   "source": [
    "numbers = [1,2,3,4,5]\n",
    "numbers[-1:0:-1]   \n",
    "numbers[-1::-1]"
   ]
  },
  {
   "cell_type": "markdown",
   "metadata": {},
   "source": [
    "> 이터레이터(Iterator)"
   ]
  },
  {
   "cell_type": "code",
   "execution_count": 18,
   "metadata": {},
   "outputs": [
    {
     "name": "stdout",
     "output_type": "stream",
     "text": [
      "a b c d e f \n",
      "97 0x61 0b1100001 98 0x62 0b1100010 99 0x63 0b1100011 100 0x64 0b1100100 101 0x65 0b1100101 102 0x66 0b1100110 <class 'list_iterator'>\n",
      "1\n",
      "2\n",
      "3\n"
     ]
    },
    {
     "ename": "StopIteration",
     "evalue": "",
     "output_type": "error",
     "traceback": [
      "\u001b[1;31m---------------------------------------------------------------------------\u001b[0m",
      "\u001b[1;31mStopIteration\u001b[0m                             Traceback (most recent call last)",
      "\u001b[1;32m~\\AppData\\Local\\Temp/ipykernel_3200/977947413.py\u001b[0m in \u001b[0;36m<module>\u001b[1;34m\u001b[0m\n\u001b[0;32m     21\u001b[0m \u001b[0mprint\u001b[0m\u001b[1;33m(\u001b[0m\u001b[0mnext\u001b[0m\u001b[1;33m(\u001b[0m\u001b[0mli_it\u001b[0m\u001b[1;33m)\u001b[0m\u001b[1;33m)\u001b[0m\u001b[1;33m\u001b[0m\u001b[1;33m\u001b[0m\u001b[0m\n\u001b[0;32m     22\u001b[0m \u001b[0mprint\u001b[0m\u001b[1;33m(\u001b[0m\u001b[0mnext\u001b[0m\u001b[1;33m(\u001b[0m\u001b[0mli_it\u001b[0m\u001b[1;33m)\u001b[0m\u001b[1;33m)\u001b[0m\u001b[1;33m\u001b[0m\u001b[1;33m\u001b[0m\u001b[0m\n\u001b[1;32m---> 23\u001b[1;33m \u001b[0mprint\u001b[0m\u001b[1;33m(\u001b[0m\u001b[0mnext\u001b[0m\u001b[1;33m(\u001b[0m\u001b[0mli_it\u001b[0m\u001b[1;33m)\u001b[0m\u001b[1;33m)\u001b[0m\u001b[1;33m\u001b[0m\u001b[1;33m\u001b[0m\u001b[0m\n\u001b[0m",
      "\u001b[1;31mStopIteration\u001b[0m: "
     ]
    }
   ],
   "source": [
    "# [\"문자열\",3, True, ....] 오브젝트 클래스 형으로 자료형을 일치시키는것이 가능함(원형으로 봤을때) 즉 자료형으로 다 넣을수있음, 사이즈가 일정하지않음. 접근하기위해서 배열에 포인터접근하는것처럼은 못하고 객체정보를 바탕응로 읽어갖고와서 넥스트 하는것임. 구현해야지만이 해당 클래스 객체에게 접근이 가능함\n",
    "\n",
    "# Iterable 객체 : 반복 가능한 객체('str','list'.'dic','tuple','range','enumerate'....)\n",
    "for i in 'abcdef':\n",
    "    print(i, end = ' ')\n",
    "print()\n",
    "for i in b'abcdef':\n",
    "    print(i, end =' ')\n",
    "    print(hex(i), end =' ')\n",
    "    print(bin(i), end =' ')\n",
    "    \n",
    "# Iterator 객체 : 값을 차례대로 꺼낼 수 있느 ㄴ객체\n",
    "li = [1,2,3]    \n",
    "# dir(li) #이터레이터인터페이스 오브러아딩해서 언더바언더바해서 구현해놓은거임 객체에대해 str치면 어떤것을 리턴해줄거냐이런것을 다 구현해놓은것임.\n",
    "# __Iter__\n",
    "li_it = iter(li)\n",
    "print(type(li_it))\n",
    "\n",
    "# next() 내장함수로 차례대로 값을 꺼내자\n",
    "print(next(li_it))\n",
    "print(next(li_it))\n",
    "print(next(li_it))\n",
    "print(next(li_it)) #stopIteration이 나올때까지 next 가능 즉 차례대로 위치를 찾아가는것임. \n",
    "\n",
    "# [0.....-99..] 이렇게 숫자를 쭉 만들어주는것이아니라 next 해서 리턴되는 숫자를 변수에 넣어주는것임. \n",
    "for i in range(100):"
   ]
  },
  {
   "cell_type": "markdown",
   "metadata": {},
   "source": [
    "> enumerate() 함수와 반복문 조합하기        "
   ]
  },
  {
   "cell_type": "code",
   "execution_count": 23,
   "metadata": {},
   "outputs": [
    {
     "name": "stdout",
     "output_type": "stream",
     "text": [
      "enumerated['a', 'b', 'c', 'd']=<enumerate object at 0x000001560CA81540>\n",
      "enumerated['a', 'b', 'c', 'd'] = [(0, 'a'), (1, 'b'), (2, 'c'), (3, 'd')]\n",
      "0 = a\n",
      "1 = b\n",
      "2 = c\n",
      "3 = d\n"
     ]
    }
   ],
   "source": [
    "# enum : 열겨형 상수 즉 열거형 숫자 \n",
    "# 부서코드 : 관리부(012)...\n",
    "\n",
    "alpas = ['a','b','c','d']\n",
    "enum_li = enumerate(alpas)\n",
    "print(\"enumerated{}={}\".format(alpas,enum_li)) # 이 객체를 사용해서 무엇을 할 ㅜㅅ 있냐면 \n",
    "print(\"enumerated{} = {}\".format(alpas,list(enum_li))) #리스트를 찍어서 안에 무엇이 들어있는지 봄. \n",
    "\n",
    "# for i in ['a','b','c','d']:\n",
    "#     print(i)  #인덱스 번호까지 찍으려면 레인지 객체로 받아야함\n",
    "\n",
    "# for i in range(len(alpas)):\n",
    "#     print(i, alpas[i])\n",
    "\n",
    "for i, e in enumerate(alpas): #튜플형태는 괄호를 뺄 수 있음 .\n",
    "    print(i,\"=\", e) #인덱스와 값을 한번에 찍을수있음. \n",
    "    \n"
   ]
  },
  {
   "cell_type": "markdown",
   "metadata": {},
   "source": [
    "> 딕셔너리의 items() 함수와 반복문 조합하기 "
   ]
  },
  {
   "cell_type": "code",
   "execution_count": 26,
   "metadata": {},
   "outputs": [
    {
     "name": "stdout",
     "output_type": "stream",
     "text": [
      "A+\n",
      "A\n",
      "B+\n",
      "B\n",
      "D\n",
      "dict_items([('A+', 95), ('A', 90), ('B+', 85), ('B', 80), ('D', 60)])\n",
      "<built-in method format of str object at 0x000001560CAB0730>\n",
      "<built-in method format of str object at 0x000001560CAB0730>\n",
      "<built-in method format of str object at 0x000001560CAB0730>\n",
      "<built-in method format of str object at 0x000001560CAB0730>\n",
      "<built-in method format of str object at 0x000001560CAB0730>\n"
     ]
    }
   ],
   "source": [
    "di = {\"A+\":95,\"A\":90,\"B+\":85,\"B\":80,\"D\":60}\n",
    "for e in di:\n",
    "    print(e)\n",
    "print(di.items()) #di.items라는 값이 나옴. 값이 튜플로 되어있음. \n",
    "# for k, v in di.items()\n",
    "\n",
    "for k,v in di.items():\n",
    "    print(\"키:{},값{}\".format) #수정필요"
   ]
  },
  {
   "cell_type": "markdown",
   "metadata": {},
   "source": [
    "> 리스트 내포(List comprehension)"
   ]
  },
  {
   "cell_type": "code",
   "execution_count": 33,
   "metadata": {},
   "outputs": [
    {
     "name": "stdout",
     "output_type": "stream",
     "text": [
      "li_1 =  [0, 1, 2, 3, 4, 5, 6, 7, 8, 9]\n",
      "li2 =  [0, 100, 200, 300, 400, 500, 600, 700, 800, 900]\n",
      "\n",
      "li_3 =  [1, 1, 4, 27, 256, 3125, 46656, 823543, 16777216, 387420489]\n",
      "li_5 =  []\n",
      "li_6 =  [0, 2, 4, 6, 8]\n"
     ]
    }
   ],
   "source": [
    "# []리스트 안에 식, for 반복문, if 조건문 등을 지정하여 리스트를 생성하는 것\n",
    "# [1,2,3](x) [식 for 변수 in 반복자료형 if 조건식 ] \n",
    "# list(식 for 변수 in 반복자료형 if 조건식)\n",
    "\n",
    "print(\"li_1 = \",li_1)\n",
    "\n",
    "li_2 = [i*100 for i in range(10)] #반복된 값이 변수에 들어감.. \n",
    "print(\"li2 = \", li_2) # 이 식에서 간단히 홀수만 출력한다던가, 요소들을 가지고 리스트를 만들어낼수있다는게 다름. \n",
    "\n",
    "print()\n",
    "\n",
    "li_3 = [i **i for i in range(10)]\n",
    "print(\"li_3 = \", li_3)\n",
    "\n",
    "# li_4 = 11.4.append\n",
    "# for i in range(10): \n",
    "#     li_4.append\n",
    "# 수정필요 \n",
    "\n",
    "li_5 = []\n",
    "for o in range(10):\n",
    "    if i % 2 == 0:\n",
    "        li_5.append(i)\n",
    "print(\"li_5 = \",li_5)\n",
    "#짝수리스트 만듬 . \n",
    "#리스트컴프리헨션으로 짝수리스트 만들기 \n",
    "\n",
    "#주석다는 습관을 들여야함. \n",
    "li_6 = [i for i in range(10) if i % 2 == 0]\n",
    "print(\"li_6 = \",li_6)\n",
    "\n"
   ]
  },
  {
   "cell_type": "code",
   "execution_count": 37,
   "metadata": {},
   "outputs": [
    {
     "name": "stdout",
     "output_type": "stream",
     "text": [
      "output =  ['이승만대통령', '박정희대통령', '김영삼대통령', '김대중대통령', '이명박대통령']\n"
     ]
    }
   ],
   "source": [
    "presidents = [\"이승만\",\"박정희\",\"전두환\",\"최규하\",\"노태우\",\"김영삼\",\"김대중\",\"노무현\",\"이명박\",\"문재인\"]\n",
    "\n",
    "# 성이 '김', '이', '박'인 대통령을 호출하여 리스트를 생성하세요\n",
    "output = [name + '대통령' for name in presidents if name[0] in \"김이박\"]\n",
    "print(\"output = \", output)"
   ]
  },
  {
   "cell_type": "code",
   "execution_count": 38,
   "metadata": {},
   "outputs": [
    {
     "name": "stdout",
     "output_type": "stream",
     "text": [
      "['이승만', '박정희', '김영삼', '김대중', '이명박']\n"
     ]
    }
   ],
   "source": [
    "# 1\n",
    "presidents = [\"이승만\",\"박정희\",\"전두환\",\"최규하\",\"노태우\",\"김영삼\",\"김대중\",\"노무현\",\"이명박\",\"문재인\"]\n",
    "output = [i for i in presidents if i[0] in \"김이박\"]\n",
    "print(output)"
   ]
  },
  {
   "cell_type": "markdown",
   "metadata": {},
   "source": [
    "> 구구단 출력 프로그램 작성 "
   ]
  },
  {
   "cell_type": "code",
   "execution_count": 53,
   "metadata": {},
   "outputs": [
    {
     "name": "stdout",
     "output_type": "stream",
     "text": [
      "2X1 = 02 , 2X2 = 04 , 2X3 = 06 , 2X4 = 08 , 2X5 = 10 , 2X6 = 12 , 2X7 = 14 , 2X8 = 16 , 2X9 = 18 , \n",
      "3X1 = 03 , 3X2 = 06 , 3X3 = 09 , 3X4 = 12 , 3X5 = 15 , 3X6 = 18 , 3X7 = 21 , 3X8 = 24 , 3X9 = 27 , \n",
      "4X1 = 04 , 4X2 = 08 , 4X3 = 12 , 4X4 = 16 , 4X5 = 20 , 4X6 = 24 , 4X7 = 28 , 4X8 = 32 , 4X9 = 36 , \n",
      "5X1 = 05 , 5X2 = 10 , 5X3 = 15 , 5X4 = 20 , 5X5 = 25 , 5X6 = 30 , 5X7 = 35 , 5X8 = 40 , 5X9 = 45 , \n",
      "6X1 = 06 , 6X2 = 12 , 6X3 = 18 , 6X4 = 24 , 6X5 = 30 , 6X6 = 36 , 6X7 = 42 , 6X8 = 48 , 6X9 = 54 , \n",
      "7X1 = 07 , 7X2 = 14 , 7X3 = 21 , 7X4 = 28 , 7X5 = 35 , 7X6 = 42 , 7X7 = 49 , 7X8 = 56 , 7X9 = 63 , \n",
      "8X1 = 08 , 8X2 = 16 , 8X3 = 24 , 8X4 = 32 , 8X5 = 40 , 8X6 = 48 , 8X7 = 56 , 8X8 = 64 , 8X9 = 72 , \n",
      "9X1 = 09 , 9X2 = 18 , 9X3 = 27 , 9X4 = 36 , 9X5 = 45 , 9X6 = 54 , 9X7 = 63 , 9X8 = 72 , 9X9 = 81 , \n",
      "\n",
      "multi_list =  [2, 4, 6, 8, 10, 12, 14, 16, 18, 3, 6, 9, 12, 15, 18, 21, 24, 27, 4, 8, 12, 16, 20, 24, 28, 32, 36, 5, 10, 15, 20, 25, 30, 35, 40, 45, 6, 12, 18, 24, 30, 36, 42, 48, 54, 7, 14, 21, 28, 35, 42, 49, 56, 63, 8, 16, 24, 32, 40, 48, 56, 64, 72, 9, 18, 27, 36, 45, 54, 63, 72, 81]\n",
      "multi_list2 =  [2, 4, 6, 8, 10, 12, 14, 16, 18, 3, 6, 9, 12, 15, 18, 21, 24, 27, 4, 8, 12, 16, 20, 24, 28, 32, 36, 5, 10, 15, 20, 25, 30, 35, 40, 45, 6, 12, 18, 24, 30, 36, 42, 48, 54, 7, 14, 21, 28, 35, 42, 49, 56, 63, 8, 16, 24, 32, 40, 48, 56, 64, 72, 9, 18, 27, 36, 45, 54, 63, 72, 81]\n"
     ]
    }
   ],
   "source": [
    "multi_list = []\n",
    "for i in range(2, 9 +1):\n",
    "    for j in range(1, 9 +1):\n",
    "        k = i *  j \n",
    "        print(\"{}X{} = {:02}\".format(i,j,k),end = \" , \")\n",
    "        multi_list.append(k)\n",
    "\n",
    "    print()\n",
    "print()\n",
    "print(\"multi_list = \",multi_list)\n",
    "\n",
    "multi_list2 = [i * j  for i in range(2, 9+1) for j in range(1,9+1)]\n",
    "print(\"multi_list2 = \",multi_list2)\n",
    "\n",
    "# 포문장을 돌려보고 좀더 간략하게 한줄로 한다하면 리스트컴프리헨션씀. 연습필요 !  \n"
   ]
  },
  {
   "cell_type": "markdown",
   "metadata": {},
   "source": [
    "> 문자열 join() 함수"
   ]
  },
  {
   "cell_type": "code",
   "execution_count": 57,
   "metadata": {},
   "outputs": [
    {
     "data": {
      "text/plain": [
       "'C:\\\\Program files\\\\Git\\\\tmp'"
      ]
     },
     "execution_count": 57,
     "metadata": {},
     "output_type": "execute_result"
    }
   ],
   "source": [
    "# 문자열.join(문자열로 구성된 리스트)\n",
    "\n",
    "phone ='-'.join(['010','1234','5678'])  \n",
    "phone\n",
    "path = '\\\\'.join([\"C:\",\"Program files\",\"Git\",\"tmp\"]) # 역슬래쉬 쓸땐 이스케이프 문자 하나 더해 \n",
    "path"
   ]
  }
 ],
 "metadata": {
  "interpreter": {
   "hash": "054c0b5073ae8ed56926c5c67113945079b283bacf1a269ae7086b3d9eebd60c"
  },
  "kernelspec": {
   "display_name": "Python 3.10.1 64-bit",
   "language": "python",
   "name": "python3"
  },
  "language_info": {
   "codemirror_mode": {
    "name": "ipython",
    "version": 3
   },
   "file_extension": ".py",
   "mimetype": "text/x-python",
   "name": "python",
   "nbconvert_exporter": "python",
   "pygments_lexer": "ipython3",
   "version": "3.10.1"
  },
  "orig_nbformat": 4
 },
 "nbformat": 4,
 "nbformat_minor": 2
}
