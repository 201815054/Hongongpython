{
 "cells": [
  {
   "cell_type": "markdown",
   "metadata": {},
   "source": [
    "### 04-3 range와 while 반복문\n",
    "---\n",
    "#### 시작하기 전에 \n",
    "***range***는 반복문과 함께 많이 사용되는 자료형. 특정한 횟수 만큼 반복해서 실행하고자 할 때 사용"
   ]
  },
  {
   "cell_type": "markdown",
   "metadata": {},
   "source": [
    "> 범위 "
   ]
  },
  {
   "cell_type": "code",
   "execution_count": 3,
   "metadata": {},
   "outputs": [
    {
     "name": "stdout",
     "output_type": "stream",
     "text": [
      "r : range(0, 10) 타입:  <class 'range'>\n",
      "0, 2, 4, "
     ]
    }
   ],
   "source": [
    "# 범위(range) 자료형 선언(생성)\n",
    "r = range(10)\n",
    "print(\"r :\",r, \"타입: \",type(r))\n",
    "\n",
    "\n",
    "r1 = range(5)       # 0 ~ 5 : 0 1 2 3 4\n",
    "r2 = range(0, 5)    # 0 ~ 5 : 0 1 2 3 4\n",
    "r3 = range(0, 5, 1) # 0 ~ 5 : 0 1 2 3 4\n",
    "\n",
    "r4 = range(0, 5, 2)\n",
    "for i in r4:\n",
    "    print(i, end=\", \") #0, 2, 4\n",
    "\n"
   ]
  },
  {
   "cell_type": "markdown",
   "metadata": {},
   "source": [
    "> 리스트(list) 와 함께 사용하기 "
   ]
  },
  {
   "cell_type": "code",
   "execution_count": 8,
   "metadata": {},
   "outputs": [
    {
     "name": "stdout",
     "output_type": "stream",
     "text": [
      "[3, 6, 9, 12, 15, 18, 21, 24, 27, 30, 33, 36, 39, 42, 45, 48, 51, 54, 57, 60, 63, 66, 69, 72, 75, 78, 81, 84, 87, 90, 93, 96, 99]\n"
     ]
    }
   ],
   "source": [
    "list(\"Python\")\n",
    "list(range(1, 10, 2)) #스텝을 어떻게 두르냐에 따라 달라짐. \n",
    "\n",
    "range(1, 11) # 1부터 10까지 포함되게 하고싶음. \n",
    "range(1, 10 + 1) # 포함이 안되니까 인위적으로 하나를 더했다. \n",
    "\n",
    "# 100 보다 작은 3의 배수 리스트 생성하세요~ \n",
    "# [3, 6, 9, 12, 15 ,,,,] 등차수열 \n",
    "multi_list = list(range(3, 100, 3)) # 3포함 끝은? 100보다 작으라 했으니 ,100 해줌 그리고 3스텝 \n",
    "print(multi_list)\n"
   ]
  },
  {
   "cell_type": "code",
   "execution_count": 13,
   "metadata": {},
   "outputs": [
    {
     "name": "stdout",
     "output_type": "stream",
     "text": [
      "10 9 8 7 6 5 4 3 2 1 \n",
      "fire!!\n"
     ]
    }
   ],
   "source": [
    "# 카운트 다운\n",
    "import time  \n",
    "for counter in range(10, 0, -1):\n",
    "    print(counter, end = ' ')\n",
    "    time.sleep(0.1)\n",
    "print()\n",
    "print(\"fire!!\")"
   ]
  },
  {
   "cell_type": "code",
   "execution_count": 14,
   "metadata": {},
   "outputs": [
    {
     "name": "stdout",
     "output_type": "stream",
     "text": [
      "1 교시 국어\n",
      "2 교시 영어\n",
      "3 교시 수학\n",
      "4 교시 컴퓨터\n",
      "5 교시 물리\n"
     ]
    }
   ],
   "source": [
    "subjects = [\"국어\", \"영어\", \"수학\", \"컴퓨터\", \"물리\"] # 여기있는 요소의 갯수만큼 돌리고자 할 때 \n",
    "for i in range(len(subjects)):\n",
    "    print(i + 1, \"교시\", subjects[i])\n"
   ]
  },
  {
   "cell_type": "markdown",
   "metadata": {},
   "source": [
    "> while 반복문 "
   ]
  },
  {
   "cell_type": "code",
   "execution_count": 15,
   "metadata": {},
   "outputs": [
    {
     "name": "stdout",
     "output_type": "stream",
     "text": [
      "0 1 2 3 4 5 6 7 8 9 10 11 12 13 14 for 반복문 종료\n",
      "0 1 2 3 4 5 6 7 8 9 10 11 12 13 14 while 반복문 종료\n"
     ]
    }
   ],
   "source": [
    "# for와 while 차이점?\n",
    "# 1. for looping   : 특정 횟수 만큼 반복하는 경우 (반복 횟수가 정해져 있을 때)    \n",
    "# 2. while looping : 특정 조건에 대하여 반복하는 경우(조건식이 만족할 때까지 반복)\n",
    "# while bool표현식 :\n",
    "\n",
    "# 횟수 반복 \n",
    "for i in range(15):\n",
    "    print(i, end= \" \")\n",
    "    time.sleep(0.5)\n",
    "print('for 반복문 종료')\n",
    "\n",
    "print()\n",
    "\n",
    "# 조건 반복 \n",
    "n = 0 # 전역 변수\n",
    "while n < 15:\n",
    "    print(n, end= \" \")\n",
    "    n += 1 \n",
    "    time.sleep(0.5)\n",
    "print('while 반복문 종료')\n",
    "    \n"
   ]
  },
  {
   "cell_type": "code",
   "execution_count": 21,
   "metadata": {},
   "outputs": [
    {
     "name": "stdout",
     "output_type": "stream",
     "text": [
      "P#$%&'y()*+,t-./:h;<=o>?@[\\]n\n"
     ]
    }
   ],
   "source": [
    "import string\n",
    "string.punctuation\n",
    "\n",
    "# 반복문을 돌려서 숨겨진 단어를 찾으세요 \n",
    "\n",
    "signs = "
   ]
  },
  {
   "cell_type": "code",
   "execution_count": 19,
   "metadata": {},
   "outputs": [
    {
     "name": "stdout",
     "output_type": "stream",
     "text": [
      "Python\n"
     ]
    }
   ],
   "source": [
    "import string\n",
    "li = \"\"\"!\"P#$%&'y()*+,t-./:h;<=o>?@[\\]n^_`{|}~\"\"\"\n",
    "ans = []\n",
    "\n",
    "l = len(li)\n",
    "for i in range(l):\n",
    "    if li[i] not in string.punctuation:\n",
    "        ans.append(li[i])\n",
    "\n",
    "print(''.join(ans)) # 다른 학생 코드"
   ]
  },
  {
   "cell_type": "code",
   "execution_count": null,
   "metadata": {},
   "outputs": [],
   "source": [
    "import string\n",
    "sen = list(\"\"\"!\"P#$%&'y()*+,t-./:h;<=o>?@[\\]n^_`{|}~\"\"\")\n",
    "ans = []\n",
    "while sen:\n",
    "    tmp = sen.pop(0)\n",
    "    if tmp not in string.punctuation:\n",
    "        ans.append(tmp)\n",
    "print(''.join(ans)) # 다른 학생 코드 "
   ]
  },
  {
   "cell_type": "markdown",
   "metadata": {},
   "source": [
    "> while 반복문 : 시간을 기반으로 반복하기 "
   ]
  },
  {
   "cell_type": "code",
   "execution_count": 29,
   "metadata": {},
   "outputs": [
    {
     "name": "stdout",
     "output_type": "stream",
     "text": [
      "UTC :  1641545814.0073314\n",
      "1.000049114227295초 동안 10466701회 반복했습니다\n"
     ]
    }
   ],
   "source": [
    "# 세계 표준시(UTC) : 1970.01.01.00:00:00 기준 현재까지의 누적 초 \n",
    "\n",
    "import time\n",
    "print(\"UTC : \", time.time())\n",
    "\n",
    "count = 0\n",
    "start_time = time.time()\n",
    "target_time = start_time + 1\n",
    "\n",
    "while time.time() < target_time: #조건식을 넣어서 트루일때 탈출 할 수 있도록 ! \n",
    "    count +=1 \n",
    "\n",
    "end_time = time.time()\n",
    "print(\"{}초 동안 {}회 반복했습니다\".format(end_time - start_time, count))\n",
    "\n",
    "# 와일반복문은 루핑하니까 탈출할수있는 조건이 필요함."
   ]
  },
  {
   "cell_type": "markdown",
   "metadata": {},
   "source": [
    "> 반복문 : break / continue "
   ]
  },
  {
   "cell_type": "code",
   "execution_count": 100,
   "metadata": {},
   "outputs": [
    {
     "name": "stdout",
     "output_type": "stream",
     "text": [
      "⚫⚫⚫⚫\n",
      "⚫⚫⚫⚫⚫⚫\n",
      "⚫⚫⚫\n",
      "⚫⚫⚫\n",
      "⚫⚫⚫⚫⚫\n",
      "⚫⚫⚫⚫⚫\n",
      "⚫⚫⚫⚫⚫⚫\n",
      "⚫⚫⚫⚫⚫\n",
      "주사위 던지기를 종료합니다. Good Bye ~\n"
     ]
    }
   ],
   "source": [
    "# 주사위를 던지려면 사용자가 엔터키를 치면 주사위를 던짐, 주사위에서 나오는 눈금을 보여줌.. 그걸 프린트해주고, 사용자가 특정키를 입력했을때 중지! \n",
    "# 사용자에게 제어권이있음. 무작위 수를 어떻게 뽑나? random을 씀. \n",
    "# 주사위 던지기 , \n",
    "# 브레이크를 맨앞에둬서 뺴놓으면 성능좋아짐\n",
    "import random \n",
    "\n",
    "#하지만 주사위는 정수다. # 뒤에 10을 곱하면 10 미만이 나옴. 주사위엔 0이없으니 1을 더해줌! \n",
    "#dice 변수에 대입! \n",
    "\n",
    "while True:\n",
    "   user_key = input(\"아무 키나 입력하세요(종료키:Q/q)\")\n",
    "   if user_key in ['q','Q']: #유저키에 큐가있다면\n",
    "       break # 반복문 빠져나가기 \n",
    "   else:\n",
    "       dice = int(random.random() * 6) + 1  # 랜덤 함수 플롯형태로 출력이됨.(실수)정수x 1.0 미만. \n",
    "       print(\"⚫\" * dice)\n",
    "       5\n",
    "print(\"주사위 던지기를 종료합니다. Good Bye ~\")"
   ]
  },
  {
   "cell_type": "code",
   "execution_count": 4,
   "metadata": {},
   "outputs": [
    {
     "name": "stdout",
     "output_type": "stream",
     "text": [
      "  6: 👏\n",
      "  9: 👏\n",
      " 16: 👏\n",
      " 19: 👏\n",
      " 26: 👏\n",
      " 29: 👏\n",
      " 36: 👏\n",
      " 39: 👏\n",
      " 46: 👏\n",
      " 49: 👏\n"
     ]
    }
   ],
   "source": [
    "# continue : 실행을 건너뛰고 반복조건으로 되돌리기 \n",
    "\n",
    "# 369 게임 \n",
    "# 3,6,9 : '👏'\n",
    "# 36 :'👏👏'\n",
    "\n",
    "user = input(\"369게임 숫자 범위를 입력하세요(예:1 - 10) > \") #입력된 숫자범위부터 시작! 변수만들어주깅. \n",
    "li = user.split('-') #스플릿은 리스트가 문자열로 출력됨\n",
    "start = int(li[0])\n",
    "stop = int(li[1]) \n",
    "# 1,2,3,4,5,6,7...stop\n",
    "for num in range(start, stop + 1): #num = 변수명\n",
    "    count = 0 # 초기화\n",
    "    for ch in str(num): # ch = \"1230679\"\n",
    "        if ch in ['3,','6','9']:\n",
    "            count += 1 # 카운트에 1씩더해주면 머징  \n",
    "    if count == 0: \n",
    "        continue #끝내지않음.. 실행건너뛰고 반복조건으로 되돌림\n",
    "    else: \n",
    "        print('{:3d}: {}'.format(num,'👏'* count)) #맨앞에 받아온 숫자를 적고 뒤엔 박수! \n",
    "# 만약 비즈니스로직이 엄청길면 필요없으면 위에 브레이크조건을 두고 성능을 살려라 (밑에 실행흐름을 제어해주는것이 의미있음.)\n",
    "   "
   ]
  },
  {
   "cell_type": "code",
   "execution_count": 9,
   "metadata": {},
   "outputs": [
    {
     "name": "stdout",
     "output_type": "stream",
     "text": [
      "3 6 9 12 15 18 21 24 27 30 33 36 39 42 45 48 51 54 57 60 63 66 69 72 75 78 81 84 87 90 93 96 99 "
     ]
    }
   ],
   "source": [
    "# 1~100 정수 중 3의 배수만 출력하는 프로그램을 작성하시오 \n",
    "# 1\n",
    "for i in range(1, 101):\n",
    "    if i % 3 == 0:\n",
    "        print(i, end = ' ')\n",
    "    else:\n",
    "        continue \n",
    "\n"
   ]
  },
  {
   "cell_type": "code",
   "execution_count": null,
   "metadata": {},
   "outputs": [],
   "source": [
    "# 2 \n",
    "for num in range(101):\n",
    "    if num % 3 == 0:\n",
    "        print(num)"
   ]
  },
  {
   "cell_type": "code",
   "execution_count": null,
   "metadata": {},
   "outputs": [],
   "source": [
    "# 3\n",
    "for num in range(0, 101):\n",
    "    if num % 3 == 0:\n",
    "        print(num)\n",
    "    else:\n",
    "        continue"
   ]
  }
 ],
 "metadata": {
  "interpreter": {
   "hash": "054c0b5073ae8ed56926c5c67113945079b283bacf1a269ae7086b3d9eebd60c"
  },
  "kernelspec": {
   "display_name": "Python 3.10.1 64-bit",
   "language": "python",
   "name": "python3"
  },
  "language_info": {
   "codemirror_mode": {
    "name": "ipython",
    "version": 3
   },
   "file_extension": ".py",
   "mimetype": "text/x-python",
   "name": "python",
   "nbconvert_exporter": "python",
   "pygments_lexer": "ipython3",
   "version": "3.10.1"
  },
  "orig_nbformat": 4
 },
 "nbformat": 4,
 "nbformat_minor": 2
}
