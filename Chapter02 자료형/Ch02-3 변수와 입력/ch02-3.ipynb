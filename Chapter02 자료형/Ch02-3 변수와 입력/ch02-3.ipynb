{
 "cells": [
  {
   "cell_type": "markdown",
   "metadata": {},
   "source": [
    "### 02-3 변수와 입력 \n",
    "---\n",
    "#### 시작하기 전에\n",
    "***변수***란 값을 저장하여 사용하기 위한 식별자이다 "
   ]
  },
  {
   "cell_type": "markdown",
   "metadata": {},
   "source": [
    "> 변수(Variable) 만들기 (사용)"
   ]
  },
  {
   "cell_type": "code",
   "execution_count": null,
   "metadata": {},
   "outputs": [],
   "source": [
    "# 계좌에 100만원 가지고 용산전자상가에서 노트북과 이어폰 사고 정산하기\n",
    "account = 1_000_000\n",
    "notebook = 5_000_000    \n",
    "earphone = 2_000_00 \n"
   ]
  },
  {
   "cell_type": "markdown",
   "metadata": {},
   "source": [
    ">복합대입연산자 : *=-=*=/=%=**="
   ]
  },
  {
   "cell_type": "code",
   "execution_count": 2,
   "metadata": {},
   "outputs": [
    {
     "name": "stdout",
     "output_type": "stream",
     "text": [
      "1\n",
      "10\n",
      "20\n",
      "4.0\n"
     ]
    }
   ],
   "source": [
    "a = 0 \n",
    "print(a+1)  \n",
    "a += 10 # a = a+10\n",
    "print(a) \n",
    "\n",
    "a += 10 \n",
    "print(a)\n",
    "\n",
    "a /= 5 # a = a/(float)5\n",
    "print(a)\n",
    "\n",
    "\n",
    "\n",
    "\n"
   ]
  },
  {
   "cell_type": "markdown",
   "metadata": {},
   "source": [
    "> 사용자 입력 : input "
   ]
  },
  {
   "cell_type": "code",
   "execution_count": 8,
   "metadata": {},
   "outputs": [
    {
     "name": "stdout",
     "output_type": "stream",
     "text": [
      "<class 'str'>\n",
      "20\n"
     ]
    }
   ],
   "source": [
    "keyboard = input(\"숫자를 입력해 주세요: \")# 반환되는 자료형태가 ste(문자열)\n",
    "print(type(keyboard))\n",
    "\n",
    "print(int(keyboard) + 10) #예외와 유효성을 항상 체크하기 "
   ]
  },
  {
   "cell_type": "markdown",
   "metadata": {},
   "source": [
    "> 타입 캐스팅(형변환)"
   ]
  },
  {
   "cell_type": "code",
   "execution_count": 11,
   "metadata": {},
   "outputs": [
    {
     "name": "stdout",
     "output_type": "stream",
     "text": [
      "입력값 10\n",
      "<class 'str'>\n",
      "int(입력값): 10\n",
      "<class 'int'>\n",
      "입력값 + 10 =  20\n"
     ]
    }
   ],
   "source": [
    "keyboard = input(\"숫자를 입력해 주세요: \")\n",
    "print(\"입력값\", keyboard)\n",
    "print(type(keyboard))\n",
    "\n",
    "# 'str' to 'int' : 문자없음 숫자로 \n",
    "keyboard = int(keyboard)\n",
    "print(\"int(입력값):\",keyboard)\n",
    "print(type(keyboard))\n",
    "\n",
    "keyboard += 10 \n",
    "print(\"입력값 + 10 = \", keyboard)\n"
   ]
  },
  {
   "cell_type": "code",
   "execution_count": 13,
   "metadata": {},
   "outputs": [
    {
     "name": "stdout",
     "output_type": "stream",
     "text": [
      "<class 'float'>\n"
     ]
    }
   ],
   "source": [
    "radius = float(input(\"원의 반지름(실수)을 입력하세요: \")) #'3.14' -> 3.14\n",
    "print(type(radius))\n"
   ]
  },
  {
   "cell_type": "markdown",
   "metadata": {},
   "source": [
    "> 사용자 입력값 계산하기 "
   ]
  },
  {
   "cell_type": "code",
   "execution_count": 18,
   "metadata": {},
   "outputs": [
    {
     "name": "stdout",
     "output_type": "stream",
     "text": [
      "계산결과는 20 입니다\n",
      "계산결과는 0 입니다\n",
      "계산결과는 1 입니다\n",
      "계산결과는 100 입니다\n"
     ]
    }
   ],
   "source": [
    "# 숫자를 두번 입력 받아 계산하고 결과(사칙연산)를 출력하세요 \n",
    "a = int(input('숫자를 입력하세요'))\n",
    "b = int(input('숫자를 입력하세요'))\n",
    "print('계산결과는 %s 입니다'%int(a+b))\n",
    "print('계산결과는 %s 입니다'%int(a-b))\n",
    "print('계산결과는 %s 입니다'%int(a/b))\n",
    "print('계산결과는 %s 입니다'%int(a*b))"
   ]
  },
  {
   "cell_type": "code",
   "execution_count": null,
   "metadata": {},
   "outputs": [],
   "source": [
    "# 숫자를 두 번 입력받아 계산하고 결과(사칙연산)를 출력하시오 \n",
    "\n",
    "# 변수 선언 초기화\n",
    "x = None; y = None #구분할때 세미콜론 \n",
    "\n",
    "data1 = input(\"첫 번째 숫자 입력: \")\n",
    "data2 = input(\"첫 번째 숫자 입력: \")\n",
    "x = float(data)\n",
    "y = float(data)"
   ]
  },
  {
   "cell_type": "markdown",
   "metadata": {},
   "source": [
    "> ValueError  예외"
   ]
  },
  {
   "cell_type": "code",
   "execution_count": 23,
   "metadata": {},
   "outputs": [
    {
     "name": "stdout",
     "output_type": "stream",
     "text": [
      "123456789\n"
     ]
    },
    {
     "ename": "ValueError",
     "evalue": "invalid literal for int() with base 10: '안녕하세요'",
     "output_type": "error",
     "traceback": [
      "\u001b[1;31m---------------------------------------------------------------------------\u001b[0m",
      "\u001b[1;31mValueError\u001b[0m                                Traceback (most recent call last)",
      "\u001b[1;32m~\\AppData\\Local\\Temp/ipykernel_10756/3678025422.py\u001b[0m in \u001b[0;36m<module>\u001b[1;34m\u001b[0m\n\u001b[0;32m      8\u001b[0m \u001b[0mprint\u001b[0m\u001b[1;33m(\u001b[0m\u001b[0mi\u001b[0m\u001b[1;33m)\u001b[0m\u001b[1;33m\u001b[0m\u001b[1;33m\u001b[0m\u001b[0m\n\u001b[0;32m      9\u001b[0m \u001b[1;33m\u001b[0m\u001b[0m\n\u001b[1;32m---> 10\u001b[1;33m \u001b[0mint\u001b[0m\u001b[1;33m(\u001b[0m\u001b[1;34m\"안녕하세요\"\u001b[0m\u001b[1;33m)\u001b[0m\u001b[1;33m\u001b[0m\u001b[1;33m\u001b[0m\u001b[0m\n\u001b[0m\u001b[0;32m     11\u001b[0m \u001b[0mfloat\u001b[0m\u001b[1;33m(\u001b[0m\u001b[1;34m\"Python\"\u001b[0m\u001b[1;33m)\u001b[0m\u001b[1;33m\u001b[0m\u001b[1;33m\u001b[0m\u001b[0m\n",
      "\u001b[1;31mValueError\u001b[0m: invalid literal for int() with base 10: '안녕하세요'"
     ]
    }
   ],
   "source": [
    "# print(dir(__builtins__))\n",
    "\n",
    "# 첫째, 숫자가 아닌 자료를 숫자로 변환하려고 할 때 \n",
    "# data = int(input(\"정수를 입력하세요: \")) #\"Hello\" 문자열 입력 \n",
    "# print(data)\n",
    "\n",
    "i = int(\"123456789\")\n",
    "print(i)\n",
    "\n",
    "int(\"안녕하세요\")\n",
    "float(\"Python\")    "
   ]
  },
  {
   "cell_type": "code",
   "execution_count": 26,
   "metadata": {},
   "outputs": [
    {
     "name": "stdout",
     "output_type": "stream",
     "text": [
      "42\n",
      "42195\n"
     ]
    },
    {
     "data": {
      "text/plain": [
       "42.195"
      ]
     },
     "execution_count": 26,
     "metadata": {},
     "output_type": "execute_result"
    }
   ],
   "source": [
    "# 둘째, 소숫점이 있는 숫자 형식의 문자열을 int(), float() 형변환 하려고 할때 \n",
    "x = 42.195 \n",
    "print(int(x))\n",
    "\n",
    "s = \"42195\"\n",
    "print(int(s))\n",
    "\n",
    "sf = \"42.195\"\n",
    "int(sf) #ValueError: invalid literal for int() with base 10: '42.195'\n",
    "float(sf)"
   ]
  },
  {
   "cell_type": "code",
   "execution_count": null,
   "metadata": {},
   "outputs": [],
   "source": [
    "a = 20 \n",
    "b = 30 \n",
    "print(a + b)\n",
    "\n",
    "a = str(a)\n",
    "b = str(b)\n",
    "print(a + b)"
   ]
  },
  {
   "cell_type": "code",
   "execution_count": 35,
   "metadata": {},
   "outputs": [
    {
     "name": "stdout",
     "output_type": "stream",
     "text": [
      "오늘의 날짜 : 2022년1월5일\n"
     ]
    }
   ],
   "source": [
    "# 오늘의 날짜 : 2022.1.5 \n",
    "\n",
    "import datetime \n",
    "\n",
    "now = datetime.datetime.now()\n",
    "\n",
    "print(\"오늘의 날짜 : {}년{}월{}일\".format(\n",
    "    now.year,\n",
    "    now.month,\n",
    "    now.day\n",
    "))"
   ]
  },
  {
   "cell_type": "code",
   "execution_count": 36,
   "metadata": {},
   "outputs": [
    {
     "name": "stdout",
     "output_type": "stream",
     "text": [
      "88.9 cm입니다.\n"
     ]
    }
   ],
   "source": [
    "#사용자로부터 인치를 입력받아 cm 리턴해주는 프로그램 작성 \n",
    "a = float(input('인치를 입력하세요 : '))\n",
    "print('%s cm입니다.'% float(a*2.54))\n"
   ]
  }
 ],
 "metadata": {
  "interpreter": {
   "hash": "054c0b5073ae8ed56926c5c67113945079b283bacf1a269ae7086b3d9eebd60c"
  },
  "kernelspec": {
   "display_name": "Python 3.10.1 64-bit",
   "language": "python",
   "name": "python3"
  },
  "language_info": {
   "codemirror_mode": {
    "name": "ipython",
    "version": 3
   },
   "file_extension": ".py",
   "mimetype": "text/x-python",
   "name": "python",
   "nbconvert_exporter": "python",
   "pygments_lexer": "ipython3",
   "version": "3.10.1"
  },
  "orig_nbformat": 4
 },
 "nbformat": 4,
 "nbformat_minor": 2
}
