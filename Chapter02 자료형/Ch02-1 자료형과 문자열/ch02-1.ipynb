{
 "cells": [
  {
   "cell_type": "markdown",
   "metadata": {},
   "source": [
    "### 02-1 자료형과 문자열\n",
    "---"
   ]
  },
  {
   "cell_type": "markdown",
   "metadata": {},
   "source": [
    "#### 시작하기전에   \n",
    "프로그램은 기본적으로 '자료를 처리'하는 역할을 한다.   \n",
    "* 카메라로 사진을 찍으면 사진이 **자료**이고, 이를 카메라에 저장하는 것이 **처리**이다.\n",
    "* 카톡으로 메시지를 보냈다면 메시지가 **자료**이고, 이를 친구에게 전송하는 것이 **처리**이다.\n",
    "* 게임에서 경험치를 얻었다면 경험치가 **자료**이고, 경험치를 증가시키는 것이 **처리**이다.\n",
    "\n",
    "데이터를 처리한다는 것은 결국...CRUD   \n",
    "\" Create(생성/쓰기), Read(읽기), Update(갱신), Delete(삭제) \" 한다는 것이다!!!"
   ]
  },
  {
   "cell_type": "markdown",
   "metadata": {},
   "source": [
    "> 자료형(data type) \n",
    "* 문자열(string): 메일 제목, 메시지 내용 등 -> \"안녕하세요\", \"Hello World\"\n",
    "* 숫자(number): 물건의 가격, 학생의 성적 등 -> 52, 273, 103.32\n",
    "* 불(boolean): 로그인 상태 -> True, False   \n",
    "자료형은 자료의 형태이고, 자료형에 따라 컴퓨터가 해석하는 방법이 달라진다. "
   ]
  },
  {
   "cell_type": "markdown",
   "metadata": {},
   "source": [
    "> 자료형 확인하기\n"
   ]
  },
  {
   "cell_type": "code",
   "execution_count": 11,
   "metadata": {},
   "outputs": [
    {
     "name": "stdout",
     "output_type": "stream",
     "text": [
      "<class 'str'>\n",
      "<class 'int'>\n",
      "<class 'float'>\n",
      "<class 'bool'>\n",
      "\n",
      "<class 'list'>\n"
     ]
    },
    {
     "ename": "TypeError",
     "evalue": "type.__new__() argument 1 must be str, not int",
     "output_type": "error",
     "traceback": [
      "\u001b[1;31m---------------------------------------------------------------------------\u001b[0m",
      "\u001b[1;31mTypeError\u001b[0m                                 Traceback (most recent call last)",
      "\u001b[1;32m~\\AppData\\Local\\Temp/ipykernel_5320/268854580.py\u001b[0m in \u001b[0;36m<module>\u001b[1;34m\u001b[0m\n\u001b[0;32m     11\u001b[0m \u001b[1;33m[\u001b[0m\u001b[1;34m\"철수\"\u001b[0m\u001b[1;33m,\u001b[0m\u001b[1;36m120\u001b[0m\u001b[1;33m]\u001b[0m\u001b[1;33m,\u001b[0m\u001b[1;33m(\u001b[0m\u001b[1;33m)\u001b[0m\u001b[1;33m,\u001b[0m\u001b[1;33m{\u001b[0m\u001b[1;34m\"name\"\u001b[0m\u001b[1;33m:\u001b[0m\u001b[1;34m\"철수\"\u001b[0m\u001b[1;33m,\u001b[0m\u001b[1;34m\"키\"\u001b[0m\u001b[1;33m:\u001b[0m\u001b[1;36m120\u001b[0m\u001b[1;33m}\u001b[0m\u001b[1;33m\u001b[0m\u001b[1;33m\u001b[0m\u001b[0m\n\u001b[0;32m     12\u001b[0m \u001b[0mprint\u001b[0m \u001b[1;33m(\u001b[0m\u001b[0mtype\u001b[0m\u001b[1;33m(\u001b[0m\u001b[1;33m[\u001b[0m\u001b[1;36m1\u001b[0m\u001b[1;33m,\u001b[0m\u001b[1;34m\"2\"\u001b[0m\u001b[1;33m,\u001b[0m\u001b[1;32mTrue\u001b[0m\u001b[1;33m]\u001b[0m\u001b[1;33m)\u001b[0m\u001b[1;33m)\u001b[0m\u001b[1;33m\u001b[0m\u001b[1;33m\u001b[0m\u001b[0m\n\u001b[1;32m---> 13\u001b[1;33m \u001b[0mprint\u001b[0m \u001b[1;33m(\u001b[0m\u001b[0mtype\u001b[0m\u001b[1;33m(\u001b[0m\u001b[1;36m1\u001b[0m\u001b[1;33m,\u001b[0m\u001b[1;36m2\u001b[0m\u001b[1;33m,\u001b[0m\u001b[1;36m3\u001b[0m\u001b[1;33m)\u001b[0m\u001b[1;33m)\u001b[0m\u001b[1;33m\u001b[0m\u001b[1;33m\u001b[0m\u001b[0m\n\u001b[0m\u001b[0;32m     14\u001b[0m \u001b[0mprint\u001b[0m\u001b[1;33m(\u001b[0m\u001b[0mtype\u001b[0m\u001b[1;33m(\u001b[0m\u001b[1;33m{\u001b[0m\u001b[1;36m1\u001b[0m\u001b[1;33m:\u001b[0m\u001b[1;34m'a'\u001b[0m\u001b[1;33m,\u001b[0m\u001b[1;36m2\u001b[0m\u001b[1;33m:\u001b[0m\u001b[1;34m'b'\u001b[0m\u001b[1;33m,\u001b[0m\u001b[1;36m3\u001b[0m\u001b[1;33m:\u001b[0m\u001b[1;34m'c'\u001b[0m\u001b[1;33m}\u001b[0m\u001b[1;33m)\u001b[0m\u001b[1;33m)\u001b[0m\u001b[1;33m\u001b[0m\u001b[1;33m\u001b[0m\u001b[0m\n",
      "\u001b[1;31mTypeError\u001b[0m: type.__new__() argument 1 must be str, not int"
     ]
    }
   ],
   "source": [
    "#보통 컴터문법에선 자료형을 명시를 ㅎㅐ주지만 파이썬은 아니다 (예) int a =7 )\n",
    "#파이썬에서 자료형을 확인하려면 type()\n",
    "#파이썬 기본 자료형\n",
    "print(type(\"나는 문자열\"))\n",
    "print(type(273))\n",
    "print(type(3.34))\n",
    "print(type(True))\n",
    "print()\n",
    "\n",
    "#컬렉션 자료형 \n",
    "[\"철수\",120],(),{\"name\":\"철수\",\"키\":120} \n",
    "print (type([1,\"2\",True]))\n",
    "print (type(1,2,3))\n",
    "print(type({1:'a',2:'b',3:'c'}))"
   ]
  },
  {
   "cell_type": "code",
   "execution_count": 12,
   "metadata": {},
   "outputs": [
    {
     "data": {
      "text/plain": [
       "['__add__',\n",
       " '__class__',\n",
       " '__contains__',\n",
       " '__delattr__',\n",
       " '__dir__',\n",
       " '__doc__',\n",
       " '__eq__',\n",
       " '__format__',\n",
       " '__ge__',\n",
       " '__getattribute__',\n",
       " '__getitem__',\n",
       " '__getnewargs__',\n",
       " '__gt__',\n",
       " '__hash__',\n",
       " '__init__',\n",
       " '__init_subclass__',\n",
       " '__iter__',\n",
       " '__le__',\n",
       " '__len__',\n",
       " '__lt__',\n",
       " '__mod__',\n",
       " '__mul__',\n",
       " '__ne__',\n",
       " '__new__',\n",
       " '__reduce__',\n",
       " '__reduce_ex__',\n",
       " '__repr__',\n",
       " '__rmod__',\n",
       " '__rmul__',\n",
       " '__setattr__',\n",
       " '__sizeof__',\n",
       " '__str__',\n",
       " '__subclasshook__',\n",
       " 'capitalize',\n",
       " 'casefold',\n",
       " 'center',\n",
       " 'count',\n",
       " 'encode',\n",
       " 'endswith',\n",
       " 'expandtabs',\n",
       " 'find',\n",
       " 'format',\n",
       " 'format_map',\n",
       " 'index',\n",
       " 'isalnum',\n",
       " 'isalpha',\n",
       " 'isascii',\n",
       " 'isdecimal',\n",
       " 'isdigit',\n",
       " 'isidentifier',\n",
       " 'islower',\n",
       " 'isnumeric',\n",
       " 'isprintable',\n",
       " 'isspace',\n",
       " 'istitle',\n",
       " 'isupper',\n",
       " 'join',\n",
       " 'ljust',\n",
       " 'lower',\n",
       " 'lstrip',\n",
       " 'maketrans',\n",
       " 'partition',\n",
       " 'removeprefix',\n",
       " 'removesuffix',\n",
       " 'replace',\n",
       " 'rfind',\n",
       " 'rindex',\n",
       " 'rjust',\n",
       " 'rpartition',\n",
       " 'rsplit',\n",
       " 'rstrip',\n",
       " 'split',\n",
       " 'splitlines',\n",
       " 'startswith',\n",
       " 'strip',\n",
       " 'swapcase',\n",
       " 'title',\n",
       " 'translate',\n",
       " 'upper',\n",
       " 'zfill']"
      ]
     },
     "execution_count": 12,
     "metadata": {},
     "output_type": "execute_result"
    }
   ],
   "source": [
    "# dir(): 어떤 객체가 어떤 메소드를 가지고 있는지 알고 싶을 때 \n",
    "dir(__builtins__) #매직메소드(빌트인)\n",
    "dir(10)\n",
    "dir('문자열')"
   ]
  },
  {
   "cell_type": "code",
   "execution_count": 18,
   "metadata": {},
   "outputs": [
    {
     "name": "stdout",
     "output_type": "stream",
     "text": [
      "n: 2386417025552\n",
      "a: 2386492795728\n",
      "b 2386492795728\n",
      "True\n",
      "True\n"
     ]
    }
   ],
   "source": [
    "# id() : 개체를 식별하기 위해서 부여하는 일련번호 \n",
    "a = 10\n",
    "# 10 이라는 값이 a에 담기는게 아니라 10이라는 객체(class의 인스턴스)가 생성되고 \n",
    "# 참조변수 a 라는 이름으로 10 객체를 가리킨다.\n",
    "id(a)\n",
    "\n",
    "n = 4000\n",
    "print(\"n:\",id(a))\n",
    "\n",
    "a = n #다른숫자를 넣으면 서로 다르게 나옴 (빨강점이유)\n",
    "print('a:',id(a))\n",
    "b = n \n",
    "print('b',id(b))\n",
    "\n",
    "print(a == b)\n",
    "print(a is b)\n"
   ]
  },
  {
   "cell_type": "code",
   "execution_count": 22,
   "metadata": {},
   "outputs": [
    {
     "name": "stdout",
     "output_type": "stream",
     "text": [
      "True\n",
      "True\n"
     ]
    }
   ],
   "source": [
    "# isinstance() : 주어진 인스턴스가 특정 클래스(데이터타입)인지 검사 \n",
    "print(isinstance(\"이것은 문자열\",str))\n",
    "print(isinstance(2021,int))\n",
    "#리터럴로 오면 뻔하지만 변수에 담기면 어떤 값인지 모름 \n"
   ]
  },
  {
   "cell_type": "code",
   "execution_count": 24,
   "metadata": {},
   "outputs": [
    {
     "name": "stdout",
     "output_type": "stream",
     "text": [
      "print(value, ..., sep=' ', end='\\n', file=sys.stdout, flush=False)\n",
      "\n",
      "Prints the values to a stream, or to sys.stdout by default.\n",
      "Optional keyword arguments:\n",
      "file:  a file-like object (stream); defaults to the current sys.stdout.\n",
      "sep:   string inserted between values, default a space.\n",
      "end:   string appended after the last value, default a newline.\n",
      "flush: whether to forcibly flush the stream.\n"
     ]
    }
   ],
   "source": [
    "# help() : 함수(function) 정보를 보고 싶을 때 \n",
    "# help(print)\n",
    "print(print.__doc__)"
   ]
  },
  {
   "cell_type": "markdown",
   "metadata": {},
   "source": [
    "> 문자열 만들기 : \" \",' ',''' '''"
   ]
  },
  {
   "cell_type": "code",
   "execution_count": 27,
   "metadata": {},
   "outputs": [
    {
     "name": "stdout",
     "output_type": "stream",
     "text": [
      "65\n",
      "B\n",
      "abcde"
     ]
    }
   ],
   "source": [
    "#문자열('str') : 문자(char)의 배열 \n",
    "\n",
    "#문자셋(character set)\n",
    "print(ord('A'))#아스키코드,인코딩\n",
    "print(chr(66)) # 디코딩 \n",
    "\n",
    "for i in 'abcde':\n",
    "    print(i,end='') #이런문자열은 반복문돌릴수이따.\n",
    "    "
   ]
  },
  {
   "cell_type": "code",
   "execution_count": 31,
   "metadata": {},
   "outputs": [
    {
     "name": "stdout",
     "output_type": "stream",
     "text": [
      "why don't you?\n",
      "why don't you?\n",
      "\"yes\" they said\n",
      "\"yes\" they said\n"
     ]
    }
   ],
   "source": [
    "# why don't you?\n",
    "print(\"why don't you?\") \n",
    "#쌍따옴표 치는 이유는 따옴표 겹쳐서 don에서 끝나는줄 알기때문에\n",
    "print('why don\\'t you?')#이럴때 쓸수있는게 이스케이프 문자(역슬래쉬)\n",
    "#\"yes\" they said\n",
    "print('\"yes\" they said')\n",
    "print(\"\\\"yes\\\" they said\")"
   ]
  },
  {
   "cell_type": "markdown",
   "metadata": {},
   "source": [
    "> 이스케이프(Esacape Character) : \\ + 문자"
   ]
  },
  {
   "cell_type": "code",
   "execution_count": 37,
   "metadata": {},
   "outputs": [
    {
     "name": "stdout",
     "output_type": "stream",
     "text": [
      "First line\n",
      "Second line.\n",
      "D:\\MyFolder\n",
      "ame\n",
      "D:\\MyFolder\\name\n",
      "D\\MyFolder\\name\n",
      "이름\t나이\t주소\n"
     ]
    }
   ],
   "source": [
    "# 특수 문자를 표현하거나 특수한 기능을 하는 문자 \n",
    "print('First line\\nSecond line.')\n",
    "# 경로명 \n",
    "print(\"D:\\MyFolder\\name\")\n",
    "print(\"D:\\\\MyFolder\\\\name\")\n",
    "print(r\"D\\MyFolder\\name\")\n",
    "print(\"이름\\t나이\\t주소\") "
   ]
  },
  {
   "cell_type": "markdown",
   "metadata": {},
   "source": [
    "> 여러 줄인 문자열(Multi-Line)"
   ]
  },
  {
   "cell_type": "code",
   "execution_count": 43,
   "metadata": {},
   "outputs": [
    {
     "name": "stdout",
     "output_type": "stream",
     "text": [
      "1. Life is too short\n",
      "2. You need python\n",
      "\n",
      "1.Life is too short\n",
      "2.You need python\n",
      "\n",
      "\n",
      "*** menu ***\n",
      "1. coffee\n",
      "2. milk\n",
      "3. cake          \n",
      "\n",
      "\n",
      "1. coffee milk\n",
      "2.cake\n",
      "\n"
     ]
    }
   ],
   "source": [
    "s1 = \"1. Life is too short\\n2. You need python\"\n",
    "print(s1)\n",
    "# 줄바꿈 문자열 \n",
    "s2 = \"\"\"\n",
    "1.Life is too short\n",
    "2.You need python\n",
    "\"\"\"\n",
    "print(s2)\n",
    "print(\"\"\"\n",
    "*** menu ***\n",
    "1. coffee\n",
    "2. milk\n",
    "3. cake          \n",
    "\"\"\")\n",
    "\n",
    "#줄바꿈 없는 문자열 (역슬래쉬 붙여주면 붙음)\n",
    "menu = \"\"\"\n",
    "1. coffee \\\n",
    "milk\n",
    "2.cake\n",
    "\"\"\"\n",
    "\n",
    "print(menu)"
   ]
  },
  {
   "cell_type": "markdown",
   "metadata": {},
   "source": [
    "> 문자열 연산자 : +,*"
   ]
  },
  {
   "cell_type": "code",
   "execution_count": 49,
   "metadata": {},
   "outputs": [
    {
     "name": "stdout",
     "output_type": "stream",
     "text": [
      "안녕하세요\n",
      "Python3.10.1\n",
      "안녕하세요\n",
      "안녕하세요\n",
      "안녕하세요\n",
      "안녕하세요\n",
      "안녕하세요\n",
      "\n",
      "--------------------------------------------------\n",
      "Progress\n",
      "--------------------------------------------------\n"
     ]
    }
   ],
   "source": [
    "# \"문자열\" + \"문자열\" \n",
    "print(\"안녕\"+\"하세요\")\n",
    "lan = \"Python\"\n",
    "version = \"3.10.1\"\n",
    "print(lan + version)\n",
    "\n",
    "#\"문자열\" * 숫자\n",
    "print(\"안녕하세요\\n\" * 5)\n",
    "print(\"-\" * 50)\n",
    "print(\"Progress\")\n",
    "print(\"-\" * 50)"
   ]
  },
  {
   "cell_type": "markdown",
   "metadata": {},
   "source": [
    "> 문자 선택 연산자(인덱싱) : [index]"
   ]
  },
  {
   "cell_type": "code",
   "execution_count": 54,
   "metadata": {},
   "outputs": [
    {
     "name": "stdout",
     "output_type": "stream",
     "text": [
      "012345\n",
      "Python\n",
      "P\n",
      "y\n",
      "n\n",
      "n\n",
      "h\n"
     ]
    }
   ],
   "source": [
    "# [index] :문자열과 같은 자료형에서 자료가 메모리에 저장된 순서대로 매겨진 값의 위치 번호 \n",
    "array = 'P''y''t''h''o''n'\n",
    "print('012345')\n",
    "print(array)\n",
    "print(array[0])\n",
    "print(array[1])\n",
    "print(array[5])\n",
    "print(array[-1])\n",
    "print(array[-3])"
   ]
  },
  {
   "cell_type": "code",
   "execution_count": 55,
   "metadata": {},
   "outputs": [
    {
     "name": "stdout",
     "output_type": "stream",
     "text": [
      "<class 'str'>\n",
      "34\n",
      "0123456789012345678901234567890123\n",
      "Life is too short. You need Python\n"
     ]
    }
   ],
   "source": [
    "array = \"Life is too short. You need Python\"\n",
    "index = \"0123456789012345678901234567890123\"\n",
    "\n",
    "print(type(array))\n",
    "print(len(array))\n",
    "print(index)\n",
    "print(array)"
   ]
  },
  {
   "cell_type": "code",
   "execution_count": null,
   "metadata": {},
   "outputs": [],
   "source": [
    "print(array[28])\n",
    "print(array[-6])\n",
    "print(array[len(array) - 1]) #프로그래밍하다보면 변수땜에 무슨문자가 올지 몰라서 씀"
   ]
  },
  {
   "cell_type": "markdown",
   "metadata": {},
   "source": [
    "> 문자열 범위 선택 연산자(슬라이싱) : [ 시작 : 끝 ]"
   ]
  },
  {
   "cell_type": "code",
   "execution_count": 67,
   "metadata": {},
   "outputs": [
    {
     "name": "stdout",
     "output_type": "stream",
     "text": [
      "0123456789012345678901234567890123\n",
      "Life is too short. You need Python\n",
      "Life\n",
      "Life\n",
      "short\n",
      "Life\n",
      "You need Python\n",
      "Life is too short. You need Python\n"
     ]
    }
   ],
   "source": [
    "print(index)\n",
    "print(array)\n",
    "\n",
    "# 특정 단어(\"Life\")를 추출하려면?\n",
    "word = array[0] + array[1] + array[2] + array[3]\n",
    "print(word) \n",
    "word = array[0 : 3 + 1] #끝인덱스는 하나더해야댐 \n",
    "print(word)\n",
    "\n",
    "print(array[12:16 + 1])\n",
    "print(array[:3+1]) #앞을 생략하면 0이라는뜻 \n",
    "print(array[19:])\n",
    "print(array[:]) #처음부터 끝까지 나옴 \n"
   ]
  },
  {
   "cell_type": "code",
   "execution_count": 78,
   "metadata": {},
   "outputs": [
    {
     "name": "stdout",
     "output_type": "stream",
     "text": [
      "97 11 13\n",
      "<class 'datetime.datetime'>\n",
      "2022\n",
      "26\n",
      "나이: 26\n",
      "생일: 11월 13일\n",
      "성별 남성\n"
     ]
    }
   ],
   "source": [
    "import datetime\n",
    "\n",
    "       #01234567890123\n",
    "data = \"971113-1013721\"\n",
    "# 생일정보, 나이정보, 성별정보 추출하시오 \n",
    "year = data[:1+1]\n",
    "month = data[2:3+1]\n",
    "day = data[4:5+1]\n",
    "print(year,month,day)\n",
    "\n",
    "current = datetime.datetime.now()\n",
    " #클래스가 리턴된다는뜻. -> 커런트.하고 안에 뭔가를 사용할수있다는 것 .\n",
    "age = current.year - 1900 - int(year) + 1 #문자열을 인트로 바꿈 \n",
    "\n",
    "\n",
    "\n",
    "var = int(data[7])\n",
    "gender = \"\"   \n",
    "\n",
    "if var % 2 == 0:\n",
    "       gender = \"여성\"      \n",
    "else:\n",
    "       gender = \"남성\"\n",
    "\n",
    "print(\"나이:\",age)\n",
    "print('생일:',month +'월',day +'일')      \n",
    "print('성별',gender)\n"
   ]
  },
  {
   "cell_type": "markdown",
   "metadata": {},
   "source": [
    "> 문자열 상수(string constants) : immutable 자료형 "
   ]
  },
  {
   "cell_type": "code",
   "execution_count": 81,
   "metadata": {},
   "outputs": [
    {
     "name": "stdout",
     "output_type": "stream",
     "text": [
      "Python\n"
     ]
    }
   ],
   "source": [
    "# 파이썬엔 상수라고 표현할만한 키워드가없음 \n",
    "word = \"Jython\"\n",
    "# word[0] = 'P'\n",
    "word = 'P' + word[1:]\n",
    "print(word) \n",
    "# word[6]에러"
   ]
  },
  {
   "cell_type": "code",
   "execution_count": null,
   "metadata": {},
   "outputs": [],
   "source": []
  }
 ],
 "metadata": {
  "interpreter": {
   "hash": "054c0b5073ae8ed56926c5c67113945079b283bacf1a269ae7086b3d9eebd60c"
  },
  "kernelspec": {
   "display_name": "Python 3.10.1 64-bit",
   "language": "python",
   "name": "python3"
  },
  "language_info": {
   "codemirror_mode": {
    "name": "ipython",
    "version": 3
   },
   "file_extension": ".py",
   "mimetype": "text/x-python",
   "name": "python",
   "nbconvert_exporter": "python",
   "pygments_lexer": "ipython3",
   "version": "3.10.1"
  },
  "orig_nbformat": 4
 },
 "nbformat": 4,
 "nbformat_minor": 2
}
