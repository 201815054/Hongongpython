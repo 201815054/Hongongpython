{
 "cells": [
  {
   "cell_type": "markdown",
   "metadata": {},
   "source": [
    "### 03-1 불 자료형과 if 조건문 \n",
    "---\n",
    "#### 시작하기 전에  \n",
    "***Boolean***은 **불린**또는 **불리언** : **True**(참)과 **False**(거짓)을 나타내는 값 "
   ]
  },
  {
   "cell_type": "code",
   "execution_count": 2,
   "metadata": {},
   "outputs": [
    {
     "name": "stdout",
     "output_type": "stream",
     "text": [
      "True False <class 'bool'>\n"
     ]
    }
   ],
   "source": [
    "a = True \n",
    "b = False\n",
    "print(a, b, type(a))\n"
   ]
  },
  {
   "cell_type": "markdown",
   "metadata": {},
   "source": [
    "> bool 만들기 : 비교연산자"
   ]
  },
  {
   "cell_type": "code",
   "execution_count": 6,
   "metadata": {},
   "outputs": [
    {
     "name": "stdout",
     "output_type": "stream",
     "text": [
      "False\n",
      "True\n",
      "True\n",
      "False\n",
      "True\n",
      "False\n"
     ]
    }
   ],
   "source": [
    "# 숫자비교\n",
    "print(10 == 100)\n",
    "print(10 != 100) #다르다 \n",
    "print(10 < 100)\n",
    "print(10 > 100)\n",
    "print(10 <= 100)\n",
    "print(10 >= 100)\n",
    "\n",
    "# 프로그래밍 처음 할때 실수하는것 => 이런식으로 순서바뀌지 않기"
   ]
  },
  {
   "cell_type": "code",
   "execution_count": 19,
   "metadata": {},
   "outputs": [
    {
     "name": "stdout",
     "output_type": "stream",
     "text": [
      "False\n",
      "True\n",
      "True\n",
      "True\n",
      "True\n",
      "False\n",
      "False\n",
      "44032\n",
      "54616\n"
     ]
    }
   ],
   "source": [
    "# 문자열 비교 \n",
    "print(\"KOR\" == \"kor\")\n",
    "print(\"KOR\" == \"KOR\")\n",
    "print(\"가방\" != \"KOR\")\n",
    "\n",
    "print(\"A\" < \"K\") #아스키코드로 비교됨 \n",
    "print(\"A\" < \"a\") #아스키코드로 비교됨 (대문자a는 65 소문자a는 97)\n",
    "print(\"가방\" > \"하마\") \n",
    "print(\"가\" > \"하\") \n",
    "\n",
    "print(ord(\"가\")) #아스키코드 변환 44032\n",
    "print(ord(\"하\")) #아스키코드 변환 54616"
   ]
  },
  {
   "cell_type": "code",
   "execution_count": 21,
   "metadata": {},
   "outputs": [
    {
     "name": "stdout",
     "output_type": "stream",
     "text": [
      "True\n",
      "True\n"
     ]
    }
   ],
   "source": [
    "# 범위 비교 \n",
    "x = 25 \n",
    "print(10 < x < 30) \n",
    "print(25 <= x < 30)"
   ]
  },
  {
   "cell_type": "markdown",
   "metadata": {},
   "source": [
    "> bool 연산하기 : 논리 연산자 "
   ]
  },
  {
   "cell_type": "code",
   "execution_count": 28,
   "metadata": {},
   "outputs": [
    {
     "data": {
      "text/plain": [
       "True"
      ]
     },
     "execution_count": 28,
     "metadata": {},
     "output_type": "execute_result"
    }
   ],
   "source": [
    "# bool 끼리 연산 : 논리 연산자(not, and, or)\n",
    "\n",
    "# and 는 All 모든 값이 True 이어야 True 반환 \n",
    "True and True\n",
    "True and True and True and True and True and True and True and True and True and True and True and True and True and True and True and True and False \n",
    "\n",
    "# or 는 Any 어느 하나라도 True이면 True 반환\n",
    "True or False \n",
    "False or False or False or False or False or False or False or False or False or False or False or False or False or False or False or False or True\n",
    "\n",
    "# not 은 논리값 뒤집기(반대)\n",
    "not True \n",
    "not False \n",
    "\n",
    "# 논리 연산자 우선순위 : not > and > or \n",
    "not True and False or not False\n",
    "  #false and false or true \n",
    "            #false or true"
   ]
  },
  {
   "cell_type": "markdown",
   "metadata": {},
   "source": [
    "> 논리 연산자와 비교 연산자를 함께 사용"
   ]
  },
  {
   "cell_type": "code",
   "execution_count": 31,
   "metadata": {},
   "outputs": [
    {
     "data": {
      "text/plain": [
       "False"
      ]
     },
     "execution_count": 31,
     "metadata": {},
     "output_type": "execute_result"
    }
   ],
   "source": [
    "# 비교 연산자로 비교한 결과를 논리 연산자로 최종 리턴 \n",
    "10 == 10 and 10 != 5\n",
    "10 > 5 or 10 < 3 \n",
    "not 10 > 5 "
   ]
  },
  {
   "cell_type": "markdown",
   "metadata": {},
   "source": [
    "> 자료형의 참과 거짓 : bool() 내장(built-in) 함수"
   ]
  },
  {
   "cell_type": "code",
   "execution_count": 45,
   "metadata": {},
   "outputs": [
    {
     "data": {
      "text/plain": [
       "True"
      ]
     },
     "execution_count": 45,
     "metadata": {},
     "output_type": "execute_result"
    }
   ],
   "source": [
    "# print (1 + True) # ??\n",
    "\n",
    "# 0, 0.0 이외의 모든 숫자는 True\n",
    "bool(1234)\n",
    "bool(-1)\n",
    "bool(0)\n",
    "bool(3.14)\n",
    "bool(0.0) #0과 0.0은 타입이 틀림. \n",
    "\n",
    "# print(1 + False) \n",
    "\n",
    "# '', \"\" 제외한 모든 문자열 True \n",
    "bool(\"문자열\")\n",
    "bool('') #뭘 집어넣었던 트루가 되는거고 0만 only false인것처럼 아무것도 넣지않으면 false가 된다.\n",
    "\n",
    "# [],(),{} 등, 빈 컨테이너(리스트, 튜플, 딕셔너리 등의 값이 비어 있는 경우)를 제외한 모든 자료형 True\n",
    "bool([1,2,3])\n",
    "bool([])\n",
    "bool({1: a, })"
   ]
  },
  {
   "cell_type": "markdown",
   "metadata": {},
   "source": [
    "> 단락 평가(short-circuit evalution) : 표현식에 대한 평가를 생략하는 방법 "
   ]
  },
  {
   "cell_type": "code",
   "execution_count": 46,
   "metadata": {},
   "outputs": [
    {
     "data": {
      "text/plain": [
       "True"
      ]
     },
     "execution_count": 46,
     "metadata": {},
     "output_type": "execute_result"
    }
   ],
   "source": [
    "# 첫 번째 값이 거짓이므로, 두번째 값은 확인하지 않고 거짓으로 결정\n",
    "False and True \n",
    "10 < 1 and 3 == 3 and 4 % 2 == 0 \n",
    "# 이런 조건식을 만들때도 and연산으로 나온다하면 false가나올 수식을 맨앞으로땡김\n",
    "# 지금처럼 false가 나오면 뒤에 평가 자체를 안해버림 \n",
    "\n",
    "# 첫 번째 값이 참이므로 두 번째 값은 확인 하지 않는다.\n",
    "True or True \n",
    "True or False \n",
    "10 < 1 and 3 == 3 or 4 % 2 == 0 #확률상 트루가 나올 수식을 맨 앞에 갖다 놓는다면 뒤에 안읽음\n",
    "\n",
    "# 논리 연산식을 연결할 때 논리 판단 표현식의 순서에 따라서 프로그램의 성능에 영향을 준다."
   ]
  },
  {
   "cell_type": "markdown",
   "metadata": {},
   "source": [
    "> bool의 사용 : if, while 등 조건식을 만들 때 사용"
   ]
  },
  {
   "cell_type": "code",
   "execution_count": 56,
   "metadata": {},
   "outputs": [
    {
     "name": "stdout",
     "output_type": "stream",
     "text": [
      "참\n",
      "16은 짝수 입니다.\n",
      "[]\n",
      "False\n",
      "[1]\n",
      "[1, 2]\n"
     ]
    }
   ],
   "source": [
    "if True:\n",
    "    print(\"참\")\n",
    "\n",
    "n = 16\n",
    "if n % 2 == 0: #짝수 2의 배수 #false라면 무조건 홀수로감 \n",
    "     print(f\"{n}은 짝수 입니다.\")\n",
    "else: \n",
    "    print(f\"{n}은 홀수 입니다\")\n",
    "\n",
    "# 들여쓰기 주의 \n",
    "\n",
    "\n",
    "li = []\n",
    "print(li)\n",
    "print(bool(li))\n",
    "\n",
    "\n",
    "if not li:\n",
    "    li.append(1)\n",
    "print(li) \n",
    "\n",
    "if li:\n",
    "    li.append(2)\n",
    "print(li) "
   ]
  },
  {
   "cell_type": "code",
   "execution_count": 57,
   "metadata": {},
   "outputs": [
    {
     "name": "stdout",
     "output_type": "stream",
     "text": [
      "참\n",
      "['a', 'b', 'c', 'd', 'e', 'f']\n",
      "['a', 'b', 'c', 'd', 'e']\n",
      "['a', 'b', 'c', 'd']\n",
      "['a', 'b', 'c']\n",
      "['a', 'b']\n",
      "['a']\n",
      "[]\n"
     ]
    }
   ],
   "source": [
    "# 프로그램에서 참과 거짓의 쓰임새 : while \n",
    "\n",
    "if [1, 2, 3]:\n",
    "    print(\"참\")\n",
    "else:\n",
    "    print(\"거짓\")\n",
    "\n",
    "a = ['a','b','c','d','e','f']\n",
    "print(a)\n",
    "\n",
    "while a: \n",
    "    a.pop()\n",
    "    print(a)"
   ]
  },
  {
   "cell_type": "markdown",
   "metadata": {},
   "source": [
    "> if 조건문 : 조건에 따라 코드의 실행을 분기하고자 할 때(실행의 흐름을 제어)"
   ]
  },
  {
   "cell_type": "code",
   "execution_count": null,
   "metadata": {},
   "outputs": [],
   "source": [
    "score = 55 \n",
    "CUT_LINE = 60\n",
    "if score >= CUT_LINE:\n",
    "    print(\"합격 하셨습니다.\")\n",
    "    print(\"축하드립니다.\")\n",
    "else:\n",
    "    print(\"불합격 입니다. \")\n",
    "\n"
   ]
  },
  {
   "cell_type": "code",
   "execution_count": null,
   "metadata": {},
   "outputs": [],
   "source": [
    "# 사용자로부터 정수를 입력받아 양수, 음수를 판별하는 프로그램 작성 (입력데이터 유효성 검증 처리 할 것)"
   ]
  },
  {
   "cell_type": "code",
   "execution_count": 70,
   "metadata": {},
   "outputs": [
    {
     "name": "stdout",
     "output_type": "stream",
     "text": [
      "양수입니다.\n"
     ]
    }
   ],
   "source": [
    "a = int(input(\"정수를 입력하세요 : \"))\n",
    "if a > 0:\n",
    "    print(\"양수입니다.\")\n",
    "elif a < 0:\n",
    "    print(\"음수입니다.\")\n",
    "else: \n",
    "    print(\"숫자가 아닙니다.\")\n",
    "\n",
    "# 대전제 정수 or 정수아님 -> 양수 or 음수 내코드,..."
   ]
  },
  {
   "cell_type": "code",
   "execution_count": null,
   "metadata": {},
   "outputs": [],
   "source": [
    "num = input()\n",
    "\n",
    "# 정수이면\n",
    "if num.isdecimal:\n",
    "    num = int(num)\n",
    "    # 0 보다 큰 경우 \n",
    "    if num > 0:\n",
    "            print('양수입니다.')\n",
    "    # 0인 경우 \n",
    "    elif num < 0:\n",
    "        print('음수입니다')\n",
    "    # 그 외 나머지 경우\n",
    "    else:\n",
    "        print('0입니다')\n",
    "# 정수가 아니면 \n",
    "else:\n",
    "    print('잘못입력하셨습니다.') # 다른학생 코드 "
   ]
  },
  {
   "cell_type": "code",
   "execution_count": 71,
   "metadata": {},
   "outputs": [
    {
     "name": "stdout",
     "output_type": "stream",
     "text": [
      "정수만 입력해주세요\n"
     ]
    }
   ],
   "source": [
    "try:\n",
    "    dat = int(input())\n",
    "    if dat > 0:\n",
    "        print('+')\n",
    "    elif dat < 0:\n",
    "        print('-')\n",
    "    else:\n",
    "        print('0')\n",
    "except:\n",
    "    print('정수만 입력해주세요')  #다른학생코드"
   ]
  },
  {
   "cell_type": "code",
   "execution_count": null,
   "metadata": {},
   "outputs": [],
   "source": [
    "input_data = input(\"정수를 하나 입력하세요: \")\n",
    "number = None \n",
    "\n",
    "# 입력데이터 유효성 검증\n",
    "# \n",
    "# 문자열이라면... not이 붙여지는순간 숫자라면이 됨. \n",
    "if not input_data.isalpha():\n",
    "    number = int(input_data)\n",
    "    print(\"입력값 : \", number)\n",
    "\n",
    "# 문자열이라면...\n",
    "else:\n",
    "    print(\"숫자가 아닙니다.\")\n",
    "    print(\"프로그램을 종료합니다.\")\n",
    "    quit()\n",
    "\n",
    "# 양수/음수 판별 \n",
    "if number > 0:\n",
    "    print(\"양수 입니다.\")\n",
    "if number < 0:\n",
    "    print(\"음수 입니다.\")\n",
    "if number == 0:\n",
    "    print(\"0 입니다.\")\n",
    "\n",
    "\n",
    "    "
   ]
  },
  {
   "cell_type": "code",
   "execution_count": null,
   "metadata": {},
   "outputs": [],
   "source": []
  }
 ],
 "metadata": {
  "interpreter": {
   "hash": "054c0b5073ae8ed56926c5c67113945079b283bacf1a269ae7086b3d9eebd60c"
  },
  "kernelspec": {
   "display_name": "Python 3.10.1 64-bit",
   "language": "python",
   "name": "python3"
  },
  "language_info": {
   "codemirror_mode": {
    "name": "ipython",
    "version": 3
   },
   "file_extension": ".py",
   "mimetype": "text/x-python",
   "name": "python",
   "nbconvert_exporter": "python",
   "pygments_lexer": "ipython3",
   "version": "3.10.1"
  },
  "orig_nbformat": 4
 },
 "nbformat": 4,
 "nbformat_minor": 2
}
