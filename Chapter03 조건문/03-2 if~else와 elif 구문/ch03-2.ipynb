{
 "cells": [
  {
   "cell_type": "markdown",
   "metadata": {},
   "source": [
    "### 03-2 if ~ else 와 elif 문 \n",
    "---\n",
    "#### 시작하기 전에 \n",
    "**두 가지**만 구분되는 실행 흐름 : 오전/오후, 주간/야간, 남/여, 합격/불합격"
   ]
  },
  {
   "cell_type": "code",
   "execution_count": null,
   "metadata": {},
   "outputs": [],
   "source": [
    "#오전/오후\n",
    "import datetime\n",
    "\n",
    "current_time = datetime.now()\n",
    "\n",
    "if current_time "
   ]
  },
  {
   "cell_type": "markdown",
   "metadata": {},
   "source": [
    "> elif 구문 : 여러가지 케이스로 분기하고자 할 때 "
   ]
  },
  {
   "cell_type": "code",
   "execution_count": null,
   "metadata": {},
   "outputs": [],
   "source": [
    "# 계절별, 요일별....\n",
    "\n",
    "# 학점 판별 \n",
    "score = 0 \n",
    "grade = \"\"\n",
    "\n",
    "score = int(input(\"점수를 입력하세요: \"))\n",
    "if score >= 95:\n",
    "    grade = \"A+\"\n",
    "elif score >= 90:   # 90<= score < 95\n",
    "    grade = \"A\"\n",
    "elif score >= 85:\n",
    "    grade = \"B+\"\n",
    "elif score >= 80:\n",
    "    grade = \"B\"\n",
    "elif score >= 75: \n",
    "    grade = \"C+\"\n",
    "elif score >= 70:\n",
    "    grade = \"C\"\n",
    "else:\n",
    "    grade = \"D\"\n",
    "\n",
    "\n",
    "print(f\"당신의 점수는 {score}점이고, 등급은 {grade}입니다.\")"
   ]
  },
  {
   "cell_type": "markdown",
   "metadata": {},
   "source": [
    "> False로 변환되는 값 : 0, 0.0, 빈 컨테이너, 빈 문자열, None"
   ]
  },
  {
   "cell_type": "code",
   "execution_count": 1,
   "metadata": {},
   "outputs": [
    {
     "name": "stdout",
     "output_type": "stream",
     "text": [
      "0은 False로 변환\n"
     ]
    },
    {
     "data": {
      "text/plain": [
       "False"
      ]
     },
     "execution_count": 1,
     "metadata": {},
     "output_type": "execute_result"
    }
   ],
   "source": [
    "if 0:\n",
    "    print(\"0은 True로 변환\")\n",
    "else:\n",
    "    print(\"0은 False로 변환\")\n",
    "\n",
    "# if \"\":\n",
    "# else:\n",
    "\n",
    "bool(None)\n",
    "\n",
    "\n"
   ]
  },
  {
   "cell_type": "markdown",
   "metadata": {},
   "source": [
    "> pass 키워드 : 프로그래밍 시 전체 골격을 잡아 놓고 처리 할 내용은 차근차근 구현하고자 할 때"
   ]
  },
  {
   "cell_type": "code",
   "execution_count": 3,
   "metadata": {},
   "outputs": [
    {
     "ename": "NotImplementedError",
     "evalue": "",
     "output_type": "error",
     "traceback": [
      "\u001b[1;31m---------------------------------------------------------------------------\u001b[0m",
      "\u001b[1;31mNotImplementedError\u001b[0m                       Traceback (most recent call last)",
      "\u001b[1;32m~\\AppData\\Local\\Temp/ipykernel_7628/3513385489.py\u001b[0m in \u001b[0;36m<module>\u001b[1;34m\u001b[0m\n\u001b[0;32m     15\u001b[0m \u001b[1;31m# 예외처리\u001b[0m\u001b[1;33m\u001b[0m\u001b[1;33m\u001b[0m\u001b[0m\n\u001b[0;32m     16\u001b[0m \u001b[1;32mif\u001b[0m \u001b[0mnumber\u001b[0m \u001b[1;33m>\u001b[0m \u001b[1;36m0\u001b[0m\u001b[1;33m:\u001b[0m\u001b[1;33m\u001b[0m\u001b[1;33m\u001b[0m\u001b[0m\n\u001b[1;32m---> 17\u001b[1;33m     \u001b[1;32mraise\u001b[0m \u001b[0mNotImplementedError\u001b[0m\u001b[1;33m\u001b[0m\u001b[1;33m\u001b[0m\u001b[0m\n\u001b[0m\u001b[0;32m     18\u001b[0m \u001b[1;32melse\u001b[0m\u001b[1;33m:\u001b[0m\u001b[1;33m\u001b[0m\u001b[1;33m\u001b[0m\u001b[0m\n\u001b[0;32m     19\u001b[0m     \u001b[1;32mraise\u001b[0m \u001b[0mNotImplementedError\u001b[0m\u001b[1;33m\u001b[0m\u001b[1;33m\u001b[0m\u001b[0m\n",
      "\u001b[1;31mNotImplementedError\u001b[0m: "
     ]
    }
   ],
   "source": [
    "number = input(\"정수입력 > \")\n",
    "number = int(number)\n",
    "if number > 0:\n",
    "    # 양수일 때 : 아직 미구현 상태\n",
    "    0 \n",
    "else:\n",
    "    # 음수일 때 : 아직 미구현 상태 \n",
    "    0\n",
    "\n",
    "if number > 0:\n",
    "    pass #패스를 해두면 구현은 안됐지만 구현을 할 예정이구나 함. \n",
    "else:\n",
    "    pass\n",
    "\n",
    "# 예외처리 \n",
    "if number > 0:\n",
    "    raise NotImplementedError\n",
    "else:\n",
    "    raise NotImplementedError\n",
    "\n"
   ]
  },
  {
   "cell_type": "markdown",
   "metadata": {},
   "source": [
    "> 사용자로부터 태어난 년도를 입력받아 띠를 리턴해주는 프로그램 작성"
   ]
  },
  {
   "cell_type": "code",
   "execution_count": 6,
   "metadata": {},
   "outputs": [
    {
     "name": "stdout",
     "output_type": "stream",
     "text": [
      "나머지:5\n",
      "당신은 강아지 띠 입니다 \n"
     ]
    }
   ],
   "source": [
    "# print(\"[ 00, 01, 02, 03, 04, 05, 06, 07, 08, 09, 10, 11\")\n",
    "# print(\"[원숭이, 닭, 개, 돼지, 쥐, 소, 호랑이, 토끼, 용, 뱀, 말, 양]\")\n",
    "# #연도를 입력하면 12로 나눈기 나머지가 나온값에 따라서 띠가 출력이되게 \n",
    "\n",
    "# y = int(input(\"태어난 년도를 입력하시오 : \"))\n",
    "# year_data = y \n",
    "\n",
    "# if year_data % 12 == 0:\n",
    "#     print(\"원숭이띠입니다.\")\n",
    "# if year_data % 12 == 1:\n",
    "#     print(\"닭띠입니다.\")\n",
    "# if year_data % 12 == 2:\n",
    "#     print(\"개띠입니다.\")\n",
    "# if year_data % 12 == 3:\n",
    "#     print(\"돼지띠입니다.\")\n",
    "# if year_data % 12 == 4:\n",
    "#     print(\"쥐띠입니다.\")\n",
    "# if year_data % 12 == 5:\n",
    "#     print(\"소띠입니다.\")\n",
    "# if year_data % 12 == 6:\n",
    "#     print(\"호랑이띠입니다.\")\n",
    "# if year_data % 12 == 7:\n",
    "#     print(\"토끼띠입니다.\")\n",
    "# if year_data % 12 == 8:\n",
    "#     print(\"용띠입니다.\")\n",
    "# if year_data % 12 == 9:\n",
    "#     print(\"뱀띠입니다.\")\n",
    "# if year_data % 12 == 10:\n",
    "#     print(\"말띠입니다.\")\n",
    "# if year_data % 12 == 11:\n",
    "#     print(\"양띠입니다.\")\n",
    "# elif를 써야하는 이유 \n",
    "zodiac = ['🐵','🐔','🐶','🐷','🐭','🐮','🐯','🐰','🐲','🐍','🐴','🐑']\n",
    "str_input = input(\"태어난 년도를 입력하시오 : \")\n",
    "year_data = int(str_input) #여기서 정수로 바꿔줌.\n",
    "remainder = year_data % 12 #여기서 나머지 계산하는 변수,띠\n",
    "sign = \"\"\n",
    "print(f\"나머지:{remainder}\") # 나머지값 찍어주기 1이냐 2냐 나올것임. \n",
    "\n",
    "if remainder % 12 == 0:\n",
    "    sign = \"원숭이\"\n",
    "elif remainder % 12 == 1:\n",
    "    sign = \"원숭이\"\n",
    "elif remainder % 12 == 2:\n",
    "    sign = \"강아지\"\n",
    "elif remainder % 12 == 3:\n",
    "    sign = \"강아지\"\n",
    "elif remainder % 12 == 4:\n",
    "    sign = \"강아지\"\n",
    "elif remainder % 12 == 5:\n",
    "    sign = \"강아지\"\n",
    "elif remainder % 12 == 6:\n",
    "    sign = \"강아지\"\n",
    "elif remainder % 12 == 7:\n",
    "    sign = \"강아지\"\n",
    "elif remainder % 12 == 8:\n",
    "    sign = \"강아지\"\n",
    "elif remainder % 12 == 9:\n",
    "    sign = \"강아지\"\n",
    "elif remainder % 12 == 10:\n",
    "    sign = \"강아지\"\n",
    "elif remainder % 12 == 11:\n",
    "    sign = \"강아지\"\n",
    "\n",
    "print(f\"당신은 {sign} 띠 입니다 \")\n",
    "# 계속 돌아가지 않고 끝남. \n",
    "\n"
   ]
  },
  {
   "cell_type": "code",
   "execution_count": null,
   "metadata": {},
   "outputs": [],
   "source": [
    "zodiac = ['원숭이', '닭', '개', '돼지', '쥐', '소', '호랑이', '토끼', '용', '뱀', '말', '양']\n",
    "try:\n",
    "    print(f\"당신의 띠는 {zodiac[int(input('태어난 해를 입력하세요'))%12]} 입니다.\") #변수값이 들어감, 나머지가 인덱스 번호가 됨. 인덱스 번호로 접근가능. \n",
    "    # 언제 try로 묶어야하나? 함수가있는데 그 함수를 콜해. 그함수를 봤더니 예외를 던지는 코드가 들어있다. 그러면 트라이로 감싸서 코딩을 해야함.\n",
    "except:\n",
    "    print(\"잘못입력했습니다.\") #다른학생 코드"
   ]
  },
  {
   "cell_type": "code",
   "execution_count": null,
   "metadata": {},
   "outputs": [],
   "source": [
    "dat = [\"원숭이\", \"닭\", \"개\", \"돼지\", \"쥐\", \"소\", \"호랑이\", \"토끼\", '용', \"뱀\", \"말\", '양']\n",
    "\n",
    "year = input(\"태어난 날짜를 입력하세요: \")\n",
    "year = int(year)\n",
    "number = year % 12\n",
    "# 0~11\n",
    "for a in range(len(dat)):\n",
    "    if number == a:\n",
    "        print(dat[a]) # 다른 학생 코드"
   ]
  },
  {
   "cell_type": "markdown",
   "metadata": {},
   "source": [
    "> 현재 계절을 리턴해주는 프로그램 작성 "
   ]
  },
  {
   "cell_type": "code",
   "execution_count": 7,
   "metadata": {},
   "outputs": [
    {
     "ename": "AttributeError",
     "evalue": "module 'datetime' has no attribute 'now'",
     "output_type": "error",
     "traceback": [
      "\u001b[1;31m---------------------------------------------------------------------------\u001b[0m",
      "\u001b[1;31mAttributeError\u001b[0m                            Traceback (most recent call last)",
      "\u001b[1;32m~\\AppData\\Local\\Temp/ipykernel_7628/4284526809.py\u001b[0m in \u001b[0;36m<module>\u001b[1;34m\u001b[0m\n\u001b[0;32m      2\u001b[0m \u001b[0mmonth\u001b[0m \u001b[1;33m=\u001b[0m \u001b[1;33m[\u001b[0m\u001b[1;34m\"1\"\u001b[0m\u001b[1;33m,\u001b[0m\u001b[1;34m\"2\"\u001b[0m\u001b[1;33m,\u001b[0m\u001b[1;34m\"3\"\u001b[0m\u001b[1;33m,\u001b[0m\u001b[1;34m\"4\"\u001b[0m\u001b[1;33m,\u001b[0m\u001b[1;34m\"5\"\u001b[0m\u001b[1;33m,\u001b[0m\u001b[1;34m\"6\"\u001b[0m\u001b[1;33m,\u001b[0m\u001b[1;34m\"7\"\u001b[0m\u001b[1;33m,\u001b[0m\u001b[1;34m\"8\"\u001b[0m\u001b[1;33m,\u001b[0m\u001b[1;34m\"9\"\u001b[0m\u001b[1;33m,\u001b[0m\u001b[1;34m\"10\"\u001b[0m\u001b[1;33m,\u001b[0m\u001b[1;34m\"11\"\u001b[0m\u001b[1;33m,\u001b[0m\u001b[1;34m\"12\"\u001b[0m\u001b[1;33m]\u001b[0m\u001b[1;33m\u001b[0m\u001b[1;33m\u001b[0m\u001b[0m\n\u001b[0;32m      3\u001b[0m \u001b[1;31m# 4가지로 나뉘어야함.\u001b[0m\u001b[1;33m\u001b[0m\u001b[1;33m\u001b[0m\u001b[0m\n\u001b[1;32m----> 4\u001b[1;33m \u001b[0mcurrent_time\u001b[0m \u001b[1;33m=\u001b[0m \u001b[0mdatetime\u001b[0m\u001b[1;33m.\u001b[0m\u001b[0mnow\u001b[0m\u001b[1;33m(\u001b[0m\u001b[1;33m)\u001b[0m\u001b[1;33m\u001b[0m\u001b[1;33m\u001b[0m\u001b[0m\n\u001b[0m\u001b[0;32m      5\u001b[0m \u001b[0mmonth_input\u001b[0m \u001b[1;33m=\u001b[0m \u001b[0minput\u001b[0m\u001b[1;33m(\u001b[0m\u001b[1;34m\"지금이 몇월입니까?\"\u001b[0m\u001b[1;33m)\u001b[0m\u001b[1;33m\u001b[0m\u001b[1;33m\u001b[0m\u001b[0m\n\u001b[0;32m      6\u001b[0m \u001b[0mmonth_data\u001b[0m \u001b[1;33m=\u001b[0m \u001b[0mint\u001b[0m\u001b[1;33m(\u001b[0m\u001b[0mmonth_input\u001b[0m\u001b[1;33m)\u001b[0m\u001b[1;33m\u001b[0m\u001b[1;33m\u001b[0m\u001b[0m\n",
      "\u001b[1;31mAttributeError\u001b[0m: module 'datetime' has no attribute 'now'"
     ]
    }
   ],
   "source": [
    "import datetime\n",
    "month = [\"1\",\"2\",\"3\",\"4\",\"5\",\"6\",\"7\",\"8\",\"9\",\"10\",\"11\",\"12\"]\n",
    "# 4가지로 나뉘어야함. \n",
    "current_time = datetime.now()\n",
    "month_input = input(\"지금이 몇월입니까?\")\n",
    "month_data = int(month_input)\n",
    "season = month_input # 11월~2월, 3월~6월,7월~8월,9월~10월 \n",
    "print(f'Month : {current_time.month}')\n"
   ]
  },
  {
   "cell_type": "code",
   "execution_count": 8,
   "metadata": {},
   "outputs": [
    {
     "name": "stdout",
     "output_type": "stream",
     "text": [
      "겨울입니다\n"
     ]
    }
   ],
   "source": [
    "import datetime\n",
    "\n",
    "current_mth = datetime.datetime.now().month\n",
    "if current_mth == 1 or current_mth == 2: #겨울인지 아닌지 판단하는 수식 \n",
    "    current_mth += 12\n",
    "\n",
    "if 3 <= current_mth <= 5: # 3월부터 5월까진 봄 \n",
    "    print(\"봄입니다\")\n",
    "elif 6 <= current_mth <= 8: # 6월부터 8월까지 여름\n",
    "    print(\"여름입니다\")\n",
    "elif 9 <= current_mth <= 11: # 9월부터 11월까지 가을 \n",
    "    print(\"가을입니다\")\n",
    "elif 12 <= current_mth <= 14: # 12월부터 14월까지 겨울 \n",
    "    print(\"겨울입니다\")\n",
    "else:\n",
    "    pass"
   ]
  },
  {
   "cell_type": "code",
   "execution_count": 10,
   "metadata": {},
   "outputs": [
    {
     "name": "stdout",
     "output_type": "stream",
     "text": [
      "겨울\n",
      "여름\n"
     ]
    }
   ],
   "source": [
    "import datetime\n",
    "month = datetime.datetime.now().month\n",
    "if 3 <= month <= 5 : print(\"봄\") \n",
    "elif 6 <= month <= 8 : print(\"여름\")\n",
    "elif 9 <= month <= 11 : print(\"가을\")\n",
    "else : print(\"겨울\") # 한눈에 딱 들어오느냐의 차이 세미콜론붙이고 더 많이 붙일수있음. ; print(\"겨울\")"
   ]
  },
  {
   "cell_type": "code",
   "execution_count": null,
   "metadata": {},
   "outputs": [],
   "source": [
    "import datetime as dt\n",
    "season = ['겨울', '봄','여름', '가을']\n",
    "m = dt.datetime.now().month\n",
    "print(f'지금은 {m}월이고 {season[(m%12)//3]}입니다') #다른학생코딩 "
   ]
  },
  {
   "cell_type": "markdown",
   "metadata": {},
   "source": [
    "> 짝수, 홀수 구분하는 프로그램 "
   ]
  },
  {
   "cell_type": "code",
   "execution_count": null,
   "metadata": {},
   "outputs": [],
   "source": [
    "input_data = input(\"정수입력> \")\n",
    "\n",
    "# 마지막 자리 숫자 추출 \n",
    "last_char = input_data[-1]\n",
    "\n",
    "# 숫자로 변환 \n",
    "number = int(last_char)\n",
    "\n",
    "if number == 0 or number == 2 or number == 4 or number == 6 or number == 8:\n",
    "    print(\"{} (은)는 짝수입니다.\".format(input_data))\n",
    "else:\n",
    "    print(\"{} (은)는 홀수입니다.\".format(input_data))"
   ]
  },
  {
   "cell_type": "code",
   "execution_count": null,
   "metadata": {},
   "outputs": [],
   "source": [
    "input_data = input(\"정수입력> \")\n",
    "\n",
    "# 마지막 자리 숫자 추출 \n",
    "last_char = input_data[-1]\n",
    "\n",
    "if \"last_char\" in \"02468\": # in을 썼을때 트루폴스가 리턴됨\n",
    "    print(\"{} (은)는 짝수입니다.\".format(input_data))\n",
    "else:\n",
    "    print(\"{} (은)는 홀수입니다.\".format(input_data))"
   ]
  },
  {
   "cell_type": "code",
   "execution_count": 11,
   "metadata": {},
   "outputs": [
    {
     "ename": "NameError",
     "evalue": "name 'input_data' is not defined",
     "output_type": "error",
     "traceback": [
      "\u001b[1;31m---------------------------------------------------------------------------\u001b[0m",
      "\u001b[1;31mNameError\u001b[0m                                 Traceback (most recent call last)",
      "\u001b[1;32m~\\AppData\\Local\\Temp/ipykernel_7628/4168943144.py\u001b[0m in \u001b[0;36m<module>\u001b[1;34m\u001b[0m\n\u001b[0;32m      1\u001b[0m \u001b[1;31m# % 연산자 사용\u001b[0m\u001b[1;33m\u001b[0m\u001b[1;33m\u001b[0m\u001b[0m\n\u001b[0;32m      2\u001b[0m \u001b[1;32mif\u001b[0m \u001b[0mnumber\u001b[0m \u001b[1;33m%\u001b[0m \u001b[1;36m2\u001b[0m \u001b[1;33m==\u001b[0m \u001b[1;36m0\u001b[0m\u001b[1;33m:\u001b[0m\u001b[1;33m\u001b[0m\u001b[1;33m\u001b[0m\u001b[0m\n\u001b[1;32m----> 3\u001b[1;33m     \u001b[0mprint\u001b[0m\u001b[1;33m(\u001b[0m\u001b[1;34m\"{} (은)는 짝수입니다.\"\u001b[0m\u001b[1;33m.\u001b[0m\u001b[0mformat\u001b[0m\u001b[1;33m(\u001b[0m\u001b[0minput_data\u001b[0m\u001b[1;33m)\u001b[0m\u001b[1;33m)\u001b[0m\u001b[1;33m\u001b[0m\u001b[1;33m\u001b[0m\u001b[0m\n\u001b[0m\u001b[0;32m      4\u001b[0m \u001b[1;32melse\u001b[0m\u001b[1;33m:\u001b[0m\u001b[1;33m\u001b[0m\u001b[1;33m\u001b[0m\u001b[0m\n\u001b[0;32m      5\u001b[0m     \u001b[0mprint\u001b[0m\u001b[1;33m(\u001b[0m\u001b[1;34m\"{} (은)는 홀수입니다.\"\u001b[0m\u001b[1;33m.\u001b[0m\u001b[0mformat\u001b[0m\u001b[1;33m(\u001b[0m\u001b[0minput_data\u001b[0m\u001b[1;33m)\u001b[0m\u001b[1;33m)\u001b[0m\u001b[1;33m\u001b[0m\u001b[1;33m\u001b[0m\u001b[0m\n",
      "\u001b[1;31mNameError\u001b[0m: name 'input_data' is not defined"
     ]
    }
   ],
   "source": [
    "# % 연산자 사용 \n",
    "if number % 2 == 0:\n",
    "    print(\"{} (은)는 짝수입니다.\".format(input_data))\n",
    "else:\n",
    "    print(\"{} (은)는 홀수입니다.\".format(input_data))"
   ]
  }
 ],
 "metadata": {
  "interpreter": {
   "hash": "054c0b5073ae8ed56926c5c67113945079b283bacf1a269ae7086b3d9eebd60c"
  },
  "kernelspec": {
   "display_name": "Python 3.10.1 64-bit",
   "language": "python",
   "name": "python3"
  },
  "language_info": {
   "codemirror_mode": {
    "name": "ipython",
    "version": 3
   },
   "file_extension": ".py",
   "mimetype": "text/x-python",
   "name": "python",
   "nbconvert_exporter": "python",
   "pygments_lexer": "ipython3",
   "version": "3.10.1"
  },
  "orig_nbformat": 4
 },
 "nbformat": 4,
 "nbformat_minor": 2
}
